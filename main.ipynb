{
 "cells": [
  {
   "cell_type": "code",
   "execution_count": 1,
   "id": "a996caf1",
   "metadata": {},
   "outputs": [
    {
     "name": "stderr",
     "output_type": "stream",
     "text": [
      "/Users/goonzard/Developer/ds-202501-health-econ-mlflow/.venv/lib/python3.12/site-packages/tqdm/auto.py:21: TqdmWarning: IProgress not found. Please update jupyter and ipywidgets. See https://ipywidgets.readthedocs.io/en/stable/user_install.html\n",
      "  from .autonotebook import tqdm as notebook_tqdm\n"
     ]
    },
    {
     "name": "stdout",
     "output_type": "stream",
     "text": [
      "[Run] Create hospital profile (epurun)\n",
      "[Run] Load data ...\n",
      "Loading ATC code map. Last Update 2025/09/12\n",
      "[Run] Get embedding ...\n",
      "2025-10-12 20:40:23 | INFO     | pipeline.PatientChartEmbedding | PatientChartEmbedding initialized [hospital_profile=이푸른병원 | collection_name=epurun_patient_embedding | vector_size=1536 | embedding_model=text-embedding-ada-002]\n",
      "2025-10-12 20:40:23 | INFO     | pipeline.PatientChartEmbedding | Starting qdrant_initialization\n",
      "2025-10-12 20:40:23 | INFO     | pipeline.PatientChartEmbedding | Parameters: qdrant_host=localhost, qdrant_port=6333, collection_name=epurun_patient_embedding, vector_size=1536\n",
      "2025-10-12 20:40:23 | INFO     | pipeline.PatientChartEmbedding | Using existing collection: epurun_patient_embedding\n",
      "2025-10-12 20:40:23 | INFO     | pipeline.PatientChartEmbedding | Parameters: collection_created=False, collection_exists=True\n",
      "2025-10-12 20:40:23 | INFO     | pipeline.PatientChartEmbedding | Completed qdrant_initialization in 0.13s\n",
      "2025-10-12 20:40:23 | INFO     | pipeline.PatientChartEmbedding | Metrics: qdrant_initialization_duration_seconds=0.1319\n",
      "2025-10-12 20:40:23 | INFO     | pipeline.PatientChartEmbedding | Starting qdrant_retrieval\n"
     ]
    },
    {
     "name": "stderr",
     "output_type": "stream",
     "text": [
      "Retrieving patient vectors: 100%|██████████| 11/11 [00:00<00:00, 32.26it/s]"
     ]
    },
    {
     "name": "stdout",
     "output_type": "stream",
     "text": [
      "2025-10-12 20:40:24 | INFO     | pipeline.PatientChartEmbedding | Completed qdrant_retrieval in 0.35s\n",
      "2025-10-12 20:40:24 | INFO     | pipeline.PatientChartEmbedding | Metrics: qdrant_retrieval_duration_seconds=0.3545\n"
     ]
    },
    {
     "name": "stderr",
     "output_type": "stream",
     "text": [
      "\n"
     ]
    },
    {
     "name": "stdout",
     "output_type": "stream",
     "text": [
      "[Run] Run the pipeline\n",
      "2025-10-12 20:40:24 | INFO     | pipeline.DynamicFactorModel | DynamicFactorModel initialized [freq=W | k_factors=5 | factor_order=1 | error_cov_type=diagonal | forecast_steps=1 | reduce_to=10]\n"
     ]
    },
    {
     "name": "stderr",
     "output_type": "stream",
     "text": [
      "Fitting Dynamic Factor Models:   0%|          | 0/241 [00:00<?, ?it/s]"
     ]
    },
    {
     "name": "stdout",
     "output_type": "stream",
     "text": [
      "2025-10-12 20:40:54 | INFO     | pipeline.DynamicFactorModel | Fitting Dynamic Factor Model for substance ANTIFUNGALS FOR TOPICAL USE from 2021-01-01 00:00:00 to 2023-01-01 00:00:00\n",
      "2025-10-12 20:40:54 | WARNING  | pipeline.DynamicFactorModel | ANTIFUNGALS FOR TOPICAL USE: fewer than 100 patients — skipped.\n",
      "2025-10-12 20:40:54 | INFO     | pipeline.DynamicFactorModel | Fitting Dynamic Factor Model for substance Calcium, combinations with vitamin D and/or other drugs from 2021-01-01 00:00:00 to 2023-01-01 00:00:00\n",
      "2025-10-12 20:40:54 | INFO     | pipeline.DynamicFactorModel | Testing Dynamic Factor Model for substance Calcium, combinations with vitamin D and/or other drugs from 2023-01-01 00:00:00 to 2023-01-29 00:00:00\n"
     ]
    },
    {
     "name": "stderr",
     "output_type": "stream",
     "text": [
      "/Users/goonzard/Developer/ds-202501-health-econ-mlflow/.venv/lib/python3.12/site-packages/umap/umap_.py:1952: UserWarning: n_jobs value 1 overridden to 1 by setting random_state. Use no seed for parallelism.\n",
      "  warn(\n"
     ]
    },
    {
     "name": "stdout",
     "output_type": "stream",
     "text": [
      "Fitting Dynamic Factor Model - startx\n",
      "[[ 8.478013    2.8263288   2.8675687  ... -1.5959489   6.9143567\n",
      "   0.0363357 ]\n",
      " [ 8.618077    2.7285562   2.8920557  ... -1.4725511   6.7855124\n",
      "   0.16073094]\n",
      " [ 8.589961    2.6980152   2.7956042  ... -1.5609376   6.8630605\n",
      "   0.08312906]\n",
      " ...\n",
      " [ 7.7186713  -1.4254838   3.317342   ...  2.2545474   5.481931\n",
      "   0.88436615]\n",
      " [ 7.813181   -1.3932017   3.1410956  ...  2.0836623   5.322207\n",
      "   0.80934364]\n",
      " [ 7.001498   -1.1102915   2.6664069  ...  0.85746646  5.564102\n",
      "   1.4020733 ]]\n",
      "shape (105, 10)\n",
      "k_factors 5\n",
      "factor_order 1\n"
     ]
    },
    {
     "name": "stderr",
     "output_type": "stream",
     "text": [
      "/Users/goonzard/Developer/ds-202501-health-econ-mlflow/.venv/lib/python3.12/site-packages/statsmodels/base/model.py:607: ConvergenceWarning: Maximum Likelihood optimization failed to converge. Check mle_retvals\n",
      "  warnings.warn(\"Maximum Likelihood optimization failed to \"\n",
      "Fitting Dynamic Factor Models:   1%|          | 2/241 [00:05<09:57,  2.50s/it]"
     ]
    },
    {
     "name": "stdout",
     "output_type": "stream",
     "text": [
      "2025-10-12 20:40:59 | INFO     | pipeline.DynamicFactorModel | Fitting Dynamic Factor Model for substance Dipeptidyl peptidase 4 (DPP-4) inhibitors from 2021-01-01 00:00:00 to 2023-01-01 00:00:00\n",
      "2025-10-12 20:40:59 | INFO     | pipeline.DynamicFactorModel | Testing Dynamic Factor Model for substance Dipeptidyl peptidase 4 (DPP-4) inhibitors from 2023-01-01 00:00:00 to 2023-01-29 00:00:00\n"
     ]
    },
    {
     "name": "stderr",
     "output_type": "stream",
     "text": [
      "/Users/goonzard/Developer/ds-202501-health-econ-mlflow/.venv/lib/python3.12/site-packages/umap/umap_.py:1952: UserWarning: n_jobs value 1 overridden to 1 by setting random_state. Use no seed for parallelism.\n",
      "  warn(\n"
     ]
    },
    {
     "name": "stdout",
     "output_type": "stream",
     "text": [
      "Fitting Dynamic Factor Model - startx\n",
      "[[24.306236  -2.5148127 -7.40997   ... 20.715998   4.8416266  6.7100024]\n",
      " [24.25624   -2.573031  -7.5675454 ... 20.856598   4.6571975  6.6435013]\n",
      " [24.330309  -2.6473942 -7.485579  ... 20.947744   4.54008    6.7217703]\n",
      " ...\n",
      " [25.914673  -1.9751927 -2.1854713 ... 18.968025   9.299007   8.81688  ]\n",
      " [25.781286  -1.8907192 -2.0104175 ... 19.062222   9.27038    8.945663 ]\n",
      " [25.03587   -2.4049244 -6.1066623 ... 21.068518   6.196813   7.1070833]]\n",
      "shape (105, 10)\n",
      "k_factors 5\n",
      "factor_order 1\n"
     ]
    },
    {
     "name": "stderr",
     "output_type": "stream",
     "text": [
      "/Users/goonzard/Developer/ds-202501-health-econ-mlflow/.venv/lib/python3.12/site-packages/statsmodels/base/model.py:607: ConvergenceWarning: Maximum Likelihood optimization failed to converge. Check mle_retvals\n",
      "  warnings.warn(\"Maximum Likelihood optimization failed to \"\n",
      "Fitting Dynamic Factor Models:   1%|          | 3/241 [00:05<07:12,  1.82s/it]"
     ]
    },
    {
     "name": "stdout",
     "output_type": "stream",
     "text": [
      "2025-10-12 20:41:00 | INFO     | pipeline.DynamicFactorModel | Fitting Dynamic Factor Model for substance Ginkgo folium from 2021-01-01 00:00:00 to 2023-01-01 00:00:00\n",
      "2025-10-12 20:41:00 | INFO     | pipeline.DynamicFactorModel | Testing Dynamic Factor Model for substance Ginkgo folium from 2023-01-01 00:00:00 to 2023-01-29 00:00:00\n"
     ]
    },
    {
     "name": "stderr",
     "output_type": "stream",
     "text": [
      "/Users/goonzard/Developer/ds-202501-health-econ-mlflow/.venv/lib/python3.12/site-packages/umap/umap_.py:1952: UserWarning: n_jobs value 1 overridden to 1 by setting random_state. Use no seed for parallelism.\n",
      "  warn(\n"
     ]
    },
    {
     "name": "stdout",
     "output_type": "stream",
     "text": [
      "Fitting Dynamic Factor Model - startx\n",
      "[[-3.6830003 16.276396  10.481727  ...  7.934348   6.763841  14.750394 ]\n",
      " [-3.676246  16.215508  10.315353  ...  7.8097663  6.7902746 14.376059 ]\n",
      " [-3.650489  16.149029  10.437894  ...  7.798771   6.69372   14.238563 ]\n",
      " ...\n",
      " [ 4.9674644  9.517897   8.131377  ...  7.1906657 14.138759  11.512228 ]\n",
      " [ 4.8415785  9.673747   8.118961  ...  7.2438755 14.358486  11.543858 ]\n",
      " [ 4.881521   7.2871256  4.7760406 ...  2.846171   3.2717295  5.840228 ]]\n",
      "shape (105, 10)\n",
      "k_factors 5\n",
      "factor_order 1\n"
     ]
    },
    {
     "name": "stderr",
     "output_type": "stream",
     "text": [
      "/Users/goonzard/Developer/ds-202501-health-econ-mlflow/.venv/lib/python3.12/site-packages/statsmodels/base/model.py:607: ConvergenceWarning: Maximum Likelihood optimization failed to converge. Check mle_retvals\n",
      "  warnings.warn(\"Maximum Likelihood optimization failed to \"\n",
      "Fitting Dynamic Factor Models:   2%|▏         | 4/241 [00:06<05:51,  1.48s/it]"
     ]
    },
    {
     "name": "stdout",
     "output_type": "stream",
     "text": [
      "2025-10-12 20:41:01 | INFO     | pipeline.DynamicFactorModel | Fitting Dynamic Factor Model for substance Other antiemetics from 2021-01-01 00:00:00 to 2023-01-01 00:00:00\n",
      "2025-10-12 20:41:01 | INFO     | pipeline.DynamicFactorModel | Testing Dynamic Factor Model for substance Other antiemetics from 2023-01-01 00:00:00 to 2023-01-29 00:00:00\n"
     ]
    },
    {
     "name": "stderr",
     "output_type": "stream",
     "text": [
      "/Users/goonzard/Developer/ds-202501-health-econ-mlflow/.venv/lib/python3.12/site-packages/umap/umap_.py:1952: UserWarning: n_jobs value 1 overridden to 1 by setting random_state. Use no seed for parallelism.\n",
      "  warn(\n"
     ]
    },
    {
     "name": "stdout",
     "output_type": "stream",
     "text": [
      "Fitting Dynamic Factor Model - startx\n",
      "[[13.928815    4.772144   -6.662102   ...  0.5247283   4.401483\n",
      "   7.807732  ]\n",
      " [13.616792    4.7380004  -6.501132   ...  0.4837102   4.514098\n",
      "   7.843237  ]\n",
      " [13.692026    4.8297577  -6.533713   ...  0.5229453   4.2963905\n",
      "   7.708077  ]\n",
      " ...\n",
      " [-2.7828512  -3.7821841  11.854677   ... -0.63737786 14.25463\n",
      "  -0.8683509 ]\n",
      " [-2.7631288  -3.6733804  11.802713   ... -0.71439606 14.235843\n",
      "  -0.9073069 ]\n",
      " [13.851015    4.579069   -6.5184793  ...  0.12655638  4.448431\n",
      "   7.5363936 ]]\n",
      "shape (105, 10)\n",
      "k_factors 5\n",
      "factor_order 1\n"
     ]
    },
    {
     "name": "stderr",
     "output_type": "stream",
     "text": [
      "/Users/goonzard/Developer/ds-202501-health-econ-mlflow/.venv/lib/python3.12/site-packages/statsmodels/base/model.py:607: ConvergenceWarning: Maximum Likelihood optimization failed to converge. Check mle_retvals\n",
      "  warnings.warn(\"Maximum Likelihood optimization failed to \"\n",
      "Fitting Dynamic Factor Models:   2%|▏         | 5/241 [00:07<05:14,  1.33s/it]"
     ]
    },
    {
     "name": "stdout",
     "output_type": "stream",
     "text": [
      "2025-10-12 20:41:02 | INFO     | pipeline.DynamicFactorModel | Fitting Dynamic Factor Model for substance Other peripheral vasodilators from 2021-01-01 00:00:00 to 2023-01-01 00:00:00\n",
      "2025-10-12 20:41:02 | INFO     | pipeline.DynamicFactorModel | Testing Dynamic Factor Model for substance Other peripheral vasodilators from 2023-01-01 00:00:00 to 2023-01-29 00:00:00\n"
     ]
    },
    {
     "name": "stderr",
     "output_type": "stream",
     "text": [
      "/Users/goonzard/Developer/ds-202501-health-econ-mlflow/.venv/lib/python3.12/site-packages/umap/umap_.py:1952: UserWarning: n_jobs value 1 overridden to 1 by setting random_state. Use no seed for parallelism.\n",
      "  warn(\n"
     ]
    },
    {
     "name": "stdout",
     "output_type": "stream",
     "text": [
      "Fitting Dynamic Factor Model - startx\n",
      "[[18.183533   2.8645253 -7.485642  ... 10.094002   9.718488   1.3153746]\n",
      " [18.286625   2.934956  -7.5599575 ... 10.1317835  9.643884   1.3920887]\n",
      " [18.423594   2.7885733 -7.490718  ...  9.636765   9.703718   1.6131561]\n",
      " ...\n",
      " [11.503944  14.232748   3.483082  ...  2.862276   1.8846395  5.3774157]\n",
      " [11.437923  14.2375555  3.5462563 ...  2.9120264  1.9311154  5.438396 ]\n",
      " [18.365559   2.2845352 -7.312513  ...  9.131711   9.444684   2.3474753]]\n",
      "shape (105, 10)\n",
      "k_factors 5\n",
      "factor_order 1\n"
     ]
    },
    {
     "name": "stderr",
     "output_type": "stream",
     "text": [
      "/Users/goonzard/Developer/ds-202501-health-econ-mlflow/.venv/lib/python3.12/site-packages/statsmodels/base/model.py:607: ConvergenceWarning: Maximum Likelihood optimization failed to converge. Check mle_retvals\n",
      "  warnings.warn(\"Maximum Likelihood optimization failed to \"\n",
      "Fitting Dynamic Factor Models:   2%|▏         | 6/241 [00:08<04:50,  1.24s/it]"
     ]
    },
    {
     "name": "stdout",
     "output_type": "stream",
     "text": [
      "2025-10-12 20:41:03 | INFO     | pipeline.DynamicFactorModel | Fitting Dynamic Factor Model for substance Platelet aggregation inhibitors excl. heparin from 2021-01-01 00:00:00 to 2023-01-01 00:00:00\n",
      "2025-10-12 20:41:03 | INFO     | pipeline.DynamicFactorModel | Testing Dynamic Factor Model for substance Platelet aggregation inhibitors excl. heparin from 2023-01-01 00:00:00 to 2023-01-29 00:00:00\n"
     ]
    },
    {
     "name": "stderr",
     "output_type": "stream",
     "text": [
      "/Users/goonzard/Developer/ds-202501-health-econ-mlflow/.venv/lib/python3.12/site-packages/umap/umap_.py:1952: UserWarning: n_jobs value 1 overridden to 1 by setting random_state. Use no seed for parallelism.\n",
      "  warn(\n"
     ]
    },
    {
     "name": "stdout",
     "output_type": "stream",
     "text": [
      "Fitting Dynamic Factor Model - startx\n",
      "[[ 6.643759   4.186929  10.806911  ... -7.6868334  1.4494387  5.1896806]\n",
      " [ 6.595398   4.145688  10.798354  ... -7.6119537  1.3982308  5.1980305]\n",
      " [ 6.613142   4.2429757 10.859216  ... -7.6070905  1.4003971  5.0117555]\n",
      " ...\n",
      " [ 1.2082891  4.785938   6.409754  ...  4.4055777  3.359484  -2.204406 ]\n",
      " [ 1.1147305  4.7276263  6.382722  ...  4.399241   3.5785131 -2.0120673]\n",
      " [ 2.1067176  8.144996  10.060884  ...  3.8012826  4.6706715 -1.1106393]]\n",
      "shape (105, 10)\n",
      "k_factors 5\n",
      "factor_order 1\n"
     ]
    },
    {
     "name": "stderr",
     "output_type": "stream",
     "text": [
      "/Users/goonzard/Developer/ds-202501-health-econ-mlflow/.venv/lib/python3.12/site-packages/statsmodels/base/model.py:607: ConvergenceWarning: Maximum Likelihood optimization failed to converge. Check mle_retvals\n",
      "  warnings.warn(\"Maximum Likelihood optimization failed to \"\n",
      "Fitting Dynamic Factor Models:   3%|▎         | 7/241 [00:09<04:28,  1.15s/it]"
     ]
    },
    {
     "name": "stdout",
     "output_type": "stream",
     "text": [
      "2025-10-12 20:41:04 | INFO     | pipeline.DynamicFactorModel | Fitting Dynamic Factor Model for substance Vitamin B-complex, plain from 2021-01-01 00:00:00 to 2023-01-01 00:00:00\n",
      "2025-10-12 20:41:04 | INFO     | pipeline.DynamicFactorModel | Testing Dynamic Factor Model for substance Vitamin B-complex, plain from 2023-01-01 00:00:00 to 2023-01-29 00:00:00\n"
     ]
    },
    {
     "name": "stderr",
     "output_type": "stream",
     "text": [
      "/Users/goonzard/Developer/ds-202501-health-econ-mlflow/.venv/lib/python3.12/site-packages/umap/umap_.py:1952: UserWarning: n_jobs value 1 overridden to 1 by setting random_state. Use no seed for parallelism.\n",
      "  warn(\n"
     ]
    },
    {
     "name": "stdout",
     "output_type": "stream",
     "text": [
      "Fitting Dynamic Factor Model - startx\n",
      "[[12.132373    9.474124   -6.1958933  ... -8.677924    2.3981953\n",
      "  -5.04445   ]\n",
      " [11.995978    9.641254   -6.292035   ... -8.980389    2.4846551\n",
      "  -5.069198  ]\n",
      " [12.242787    9.359151   -6.3305254  ... -8.890556    2.246106\n",
      "  -5.4119515 ]\n",
      " ...\n",
      " [ 0.8171797  17.046589    1.3158242  ...  4.538718   13.294747\n",
      "   6.604083  ]\n",
      " [ 0.8708446  16.94436     1.6529336  ...  4.2616186  13.173126\n",
      "   6.3979483 ]\n",
      " [ 0.39173803 16.915989    1.2308384  ...  4.362105   13.138361\n",
      "   6.2384686 ]]\n",
      "shape (105, 10)\n",
      "k_factors 5\n",
      "factor_order 1\n"
     ]
    },
    {
     "name": "stderr",
     "output_type": "stream",
     "text": [
      "/Users/goonzard/Developer/ds-202501-health-econ-mlflow/.venv/lib/python3.12/site-packages/statsmodels/base/model.py:607: ConvergenceWarning: Maximum Likelihood optimization failed to converge. Check mle_retvals\n",
      "  warnings.warn(\"Maximum Likelihood optimization failed to \"\n",
      "Fitting Dynamic Factor Models:   3%|▎         | 8/241 [00:10<04:18,  1.11s/it]"
     ]
    },
    {
     "name": "stdout",
     "output_type": "stream",
     "text": [
      "2025-10-12 20:41:05 | INFO     | pipeline.DynamicFactorModel | Fitting Dynamic Factor Model for substance aceclofenac from 2021-01-01 00:00:00 to 2023-01-01 00:00:00\n",
      "2025-10-12 20:41:05 | INFO     | pipeline.DynamicFactorModel | Testing Dynamic Factor Model for substance aceclofenac from 2023-01-01 00:00:00 to 2023-01-29 00:00:00\n"
     ]
    },
    {
     "name": "stderr",
     "output_type": "stream",
     "text": [
      "/Users/goonzard/Developer/ds-202501-health-econ-mlflow/.venv/lib/python3.12/site-packages/umap/umap_.py:1952: UserWarning: n_jobs value 1 overridden to 1 by setting random_state. Use no seed for parallelism.\n",
      "  warn(\n"
     ]
    },
    {
     "name": "stdout",
     "output_type": "stream",
     "text": [
      "Fitting Dynamic Factor Model - startx\n",
      "[[ 4.9491253  6.08517    6.9612374 ...  7.485166   1.0243998 10.5039835]\n",
      " [ 4.8354297  6.0906544  7.1237884 ...  7.4369993  1.0432973 10.52859  ]\n",
      " [ 4.9074497  6.2074776  7.103097  ...  7.552126   0.9291208 10.553318 ]\n",
      " ...\n",
      " [ 5.438462   4.7740617  5.9887867 ...  4.382133   6.082274   8.583244 ]\n",
      " [ 5.353117   4.8287096  6.0566306 ...  4.2843676  6.068434   8.661867 ]\n",
      " [ 4.830435   5.7939157  6.966472  ...  7.366444   1.7989956 10.360954 ]]\n",
      "shape (105, 10)\n",
      "k_factors 5\n",
      "factor_order 1\n"
     ]
    },
    {
     "name": "stderr",
     "output_type": "stream",
     "text": [
      "/Users/goonzard/Developer/ds-202501-health-econ-mlflow/.venv/lib/python3.12/site-packages/statsmodels/base/model.py:607: ConvergenceWarning: Maximum Likelihood optimization failed to converge. Check mle_retvals\n",
      "  warnings.warn(\"Maximum Likelihood optimization failed to \"\n",
      "Fitting Dynamic Factor Models:   4%|▎         | 9/241 [00:11<04:01,  1.04s/it]"
     ]
    },
    {
     "name": "stdout",
     "output_type": "stream",
     "text": [
      "2025-10-12 20:41:06 | INFO     | pipeline.DynamicFactorModel | Fitting Dynamic Factor Model for substance acetylcysteine from 2021-01-01 00:00:00 to 2023-01-01 00:00:00\n",
      "2025-10-12 20:41:06 | INFO     | pipeline.DynamicFactorModel | Testing Dynamic Factor Model for substance acetylcysteine from 2023-01-01 00:00:00 to 2023-01-29 00:00:00\n"
     ]
    },
    {
     "name": "stderr",
     "output_type": "stream",
     "text": [
      "/Users/goonzard/Developer/ds-202501-health-econ-mlflow/.venv/lib/python3.12/site-packages/umap/umap_.py:1952: UserWarning: n_jobs value 1 overridden to 1 by setting random_state. Use no seed for parallelism.\n",
      "  warn(\n"
     ]
    },
    {
     "name": "stdout",
     "output_type": "stream",
     "text": [
      "Fitting Dynamic Factor Model - startx\n",
      "[[26.129976   2.6965847 13.488812  ...  5.866565  16.621164   8.023234 ]\n",
      " [26.267803   2.7175267 13.650632  ...  5.86903   16.542948   7.8511724]\n",
      " [26.135735   2.5768564 13.614024  ...  5.756997  16.589752   7.9332485]\n",
      " ...\n",
      " [12.205011  -5.0205593 19.942131  ... 11.954019   9.372212  17.396648 ]\n",
      " [12.286833  -5.252975  20.207218  ... 11.922818   9.338833  17.459541 ]\n",
      " [13.494993  -4.9788184 19.840351  ... 12.028546   9.056785  16.210367 ]]\n",
      "shape (105, 10)\n",
      "k_factors 5\n",
      "factor_order 1\n"
     ]
    },
    {
     "name": "stderr",
     "output_type": "stream",
     "text": [
      "/Users/goonzard/Developer/ds-202501-health-econ-mlflow/.venv/lib/python3.12/site-packages/statsmodels/base/model.py:607: ConvergenceWarning: Maximum Likelihood optimization failed to converge. Check mle_retvals\n",
      "  warnings.warn(\"Maximum Likelihood optimization failed to \"\n",
      "Fitting Dynamic Factor Models:   4%|▍         | 10/241 [00:12<03:54,  1.01s/it]"
     ]
    },
    {
     "name": "stdout",
     "output_type": "stream",
     "text": [
      "2025-10-12 20:41:06 | INFO     | pipeline.DynamicFactorModel | Fitting Dynamic Factor Model for substance acetylsalicylic acid from 2021-01-01 00:00:00 to 2023-01-01 00:00:00\n",
      "2025-10-12 20:41:06 | INFO     | pipeline.DynamicFactorModel | Testing Dynamic Factor Model for substance acetylsalicylic acid from 2023-01-01 00:00:00 to 2023-01-29 00:00:00\n"
     ]
    },
    {
     "name": "stderr",
     "output_type": "stream",
     "text": [
      "/Users/goonzard/Developer/ds-202501-health-econ-mlflow/.venv/lib/python3.12/site-packages/umap/umap_.py:1952: UserWarning: n_jobs value 1 overridden to 1 by setting random_state. Use no seed for parallelism.\n",
      "  warn(\n"
     ]
    },
    {
     "name": "stdout",
     "output_type": "stream",
     "text": [
      "Fitting Dynamic Factor Model - startx\n",
      "[[  6.598735   15.803993    1.7621934 ...   9.292632   -2.9128823\n",
      "    8.033278 ]\n",
      " [  6.464052   15.795061    1.8150895 ...   9.219408   -2.758214\n",
      "    8.051232 ]\n",
      " [  6.477832   15.829132    1.9091746 ...   9.228986   -2.7580578\n",
      "    8.03073  ]\n",
      " ...\n",
      " [ 12.780581   -4.941814   13.727615  ...  -9.933702   -1.6376233\n",
      "    5.959383 ]\n",
      " [ 12.879446   -4.766134   13.816141  ... -10.153994   -1.6233392\n",
      "    6.1201534]\n",
      " [  6.0785933  16.025745    1.9054532 ...   9.872857   -3.574098\n",
      "    7.302834 ]]\n",
      "shape (105, 10)\n",
      "k_factors 5\n",
      "factor_order 1\n"
     ]
    },
    {
     "name": "stderr",
     "output_type": "stream",
     "text": [
      "/Users/goonzard/Developer/ds-202501-health-econ-mlflow/.venv/lib/python3.12/site-packages/statsmodels/base/model.py:607: ConvergenceWarning: Maximum Likelihood optimization failed to converge. Check mle_retvals\n",
      "  warnings.warn(\"Maximum Likelihood optimization failed to \"\n",
      "Fitting Dynamic Factor Models:   5%|▍         | 11/241 [00:13<03:52,  1.01s/it]"
     ]
    },
    {
     "name": "stdout",
     "output_type": "stream",
     "text": [
      "2025-10-12 20:41:07 | INFO     | pipeline.DynamicFactorModel | Fitting Dynamic Factor Model for substance albumin from 2021-01-01 00:00:00 to 2023-01-01 00:00:00\n",
      "2025-10-12 20:41:07 | INFO     | pipeline.DynamicFactorModel | Testing Dynamic Factor Model for substance albumin from 2023-01-01 00:00:00 to 2023-01-29 00:00:00\n"
     ]
    },
    {
     "name": "stderr",
     "output_type": "stream",
     "text": [
      "/Users/goonzard/Developer/ds-202501-health-econ-mlflow/.venv/lib/python3.12/site-packages/umap/umap_.py:1952: UserWarning: n_jobs value 1 overridden to 1 by setting random_state. Use no seed for parallelism.\n",
      "  warn(\n"
     ]
    },
    {
     "name": "stdout",
     "output_type": "stream",
     "text": [
      "Fitting Dynamic Factor Model - startx\n",
      "[[-3.8779142e+00  4.9580159e+00  1.2213400e+01 ...  1.0935159e+01\n",
      "   2.6028100e-01 -6.4857216e+00]\n",
      " [-4.1955261e+00  5.2204890e+00  1.2303908e+01 ...  1.0893669e+01\n",
      "  -1.0897676e-02 -6.1287799e+00]\n",
      " [-4.0783062e+00  4.9447875e+00  1.2666943e+01 ...  1.0730303e+01\n",
      "   5.5501353e-02 -6.4219012e+00]\n",
      " ...\n",
      " [-4.3334618e+00  4.8721690e+00  1.2852558e+01 ...  1.0720508e+01\n",
      "   5.3171110e-01 -6.9752927e+00]\n",
      " [-4.0130663e+00  5.2713370e+00  1.2696816e+01 ...  1.0693710e+01\n",
      "  -2.9852366e-01 -6.0691509e+00]\n",
      " [-4.0453367e+00  5.3707027e+00  1.2991916e+01 ...  1.0860145e+01\n",
      "  -1.1309221e-02 -6.8761759e+00]]\n",
      "shape (105, 10)\n",
      "k_factors 5\n",
      "factor_order 1\n"
     ]
    },
    {
     "name": "stderr",
     "output_type": "stream",
     "text": [
      "/Users/goonzard/Developer/ds-202501-health-econ-mlflow/.venv/lib/python3.12/site-packages/statsmodels/base/model.py:607: ConvergenceWarning: Maximum Likelihood optimization failed to converge. Check mle_retvals\n",
      "  warnings.warn(\"Maximum Likelihood optimization failed to \"\n",
      "Fitting Dynamic Factor Models:   5%|▍         | 12/241 [00:14<03:49,  1.00s/it]"
     ]
    },
    {
     "name": "stdout",
     "output_type": "stream",
     "text": [
      "2025-10-12 20:41:08 | INFO     | pipeline.DynamicFactorModel | Fitting Dynamic Factor Model for substance almagate from 2021-01-01 00:00:00 to 2023-01-01 00:00:00\n",
      "2025-10-12 20:41:08 | INFO     | pipeline.DynamicFactorModel | Testing Dynamic Factor Model for substance almagate from 2023-01-01 00:00:00 to 2023-01-29 00:00:00\n"
     ]
    },
    {
     "name": "stderr",
     "output_type": "stream",
     "text": [
      "/Users/goonzard/Developer/ds-202501-health-econ-mlflow/.venv/lib/python3.12/site-packages/umap/umap_.py:1952: UserWarning: n_jobs value 1 overridden to 1 by setting random_state. Use no seed for parallelism.\n",
      "  warn(\n"
     ]
    },
    {
     "name": "stdout",
     "output_type": "stream",
     "text": [
      "Fitting Dynamic Factor Model - startx\n",
      "[[11.51984     5.8972855  14.527943   ... 11.215067   -0.0910686\n",
      "   6.947852  ]\n",
      " [11.634214    6.109486   14.452713   ... 11.267118   -0.08391212\n",
      "   7.0432057 ]\n",
      " [11.607125    6.150267   14.4962435  ... 11.313033   -0.17403765\n",
      "   7.027843  ]\n",
      " ...\n",
      " [ 7.1189137  -7.0197673   6.4000688  ... -0.62485456  4.8634605\n",
      "   6.5881515 ]\n",
      " [ 7.1459527  -6.9101152   6.5083423  ... -0.58876246  4.9778237\n",
      "   6.583373  ]\n",
      " [ 7.1256847  -6.925555    6.4709935  ... -0.50403637  4.967933\n",
      "   6.650447  ]]\n",
      "shape (105, 10)\n",
      "k_factors 5\n",
      "factor_order 1\n"
     ]
    },
    {
     "name": "stderr",
     "output_type": "stream",
     "text": [
      "/Users/goonzard/Developer/ds-202501-health-econ-mlflow/.venv/lib/python3.12/site-packages/statsmodels/base/model.py:607: ConvergenceWarning: Maximum Likelihood optimization failed to converge. Check mle_retvals\n",
      "  warnings.warn(\"Maximum Likelihood optimization failed to \"\n",
      "Fitting Dynamic Factor Models:   5%|▌         | 13/241 [00:15<03:39,  1.04it/s]"
     ]
    },
    {
     "name": "stdout",
     "output_type": "stream",
     "text": [
      "2025-10-12 20:41:09 | INFO     | pipeline.DynamicFactorModel | Fitting Dynamic Factor Model for substance alprazolam from 2021-01-01 00:00:00 to 2023-01-01 00:00:00\n",
      "2025-10-12 20:41:09 | INFO     | pipeline.DynamicFactorModel | Testing Dynamic Factor Model for substance alprazolam from 2023-01-01 00:00:00 to 2023-01-29 00:00:00\n"
     ]
    },
    {
     "name": "stderr",
     "output_type": "stream",
     "text": [
      "/Users/goonzard/Developer/ds-202501-health-econ-mlflow/.venv/lib/python3.12/site-packages/umap/umap_.py:1952: UserWarning: n_jobs value 1 overridden to 1 by setting random_state. Use no seed for parallelism.\n",
      "  warn(\n"
     ]
    },
    {
     "name": "stdout",
     "output_type": "stream",
     "text": [
      "Fitting Dynamic Factor Model - startx\n",
      "[[14.846759    0.9474039  14.026963   ...  4.787817    3.060505\n",
      "   5.8796015 ]\n",
      " [14.742704    1.0274023  13.96518    ...  4.707787    2.981357\n",
      "   5.7257934 ]\n",
      " [14.6096      0.98004466 14.090862   ...  4.7226677   3.0663133\n",
      "   5.8047233 ]\n",
      " ...\n",
      " [ 0.94091356  1.8385944   1.5665832  ...  8.861789    4.4428606\n",
      "   2.1440034 ]\n",
      " [ 0.8950214   1.946764    1.4882126  ...  8.719622    4.4524913\n",
      "   2.1429856 ]\n",
      " [14.779789    1.1140413  14.085759   ...  4.8713455   2.9800086\n",
      "   6.081094  ]]\n",
      "shape (105, 10)\n",
      "k_factors 5\n",
      "factor_order 1\n"
     ]
    },
    {
     "name": "stderr",
     "output_type": "stream",
     "text": [
      "/Users/goonzard/Developer/ds-202501-health-econ-mlflow/.venv/lib/python3.12/site-packages/statsmodels/base/model.py:607: ConvergenceWarning: Maximum Likelihood optimization failed to converge. Check mle_retvals\n",
      "  warnings.warn(\"Maximum Likelihood optimization failed to \"\n",
      "Fitting Dynamic Factor Models:   6%|▌         | 14/241 [00:16<03:33,  1.06it/s]"
     ]
    },
    {
     "name": "stdout",
     "output_type": "stream",
     "text": [
      "2025-10-12 20:41:10 | INFO     | pipeline.DynamicFactorModel | Fitting Dynamic Factor Model for substance ambroxol from 2021-01-01 00:00:00 to 2023-01-01 00:00:00\n",
      "2025-10-12 20:41:10 | INFO     | pipeline.DynamicFactorModel | Testing Dynamic Factor Model for substance ambroxol from 2023-01-01 00:00:00 to 2023-01-29 00:00:00\n"
     ]
    },
    {
     "name": "stderr",
     "output_type": "stream",
     "text": [
      "/Users/goonzard/Developer/ds-202501-health-econ-mlflow/.venv/lib/python3.12/site-packages/umap/umap_.py:1952: UserWarning: n_jobs value 1 overridden to 1 by setting random_state. Use no seed for parallelism.\n",
      "  warn(\n"
     ]
    },
    {
     "name": "stdout",
     "output_type": "stream",
     "text": [
      "Fitting Dynamic Factor Model - startx\n",
      "[[11.031458    0.98571455  6.05963    ... 15.678181    1.7053603\n",
      "   1.6773393 ]\n",
      " [10.816873    0.94889444  6.1969233  ... 15.552201    1.667871\n",
      "   1.7082791 ]\n",
      " [10.83227     0.91819954  6.1073446  ... 15.583959    1.7795099\n",
      "   1.6024469 ]\n",
      " ...\n",
      " [11.8099165  -8.091147   -1.9436016  ... 26.34911     4.934305\n",
      "  -1.8031862 ]\n",
      " [11.779072   -8.057196   -1.8826865  ... 26.146732    4.879603\n",
      "  -1.6470939 ]\n",
      " [12.199797   -7.412581   -2.07455    ... 26.115738    5.0646186\n",
      "  -2.068129  ]]\n",
      "shape (105, 10)\n",
      "k_factors 5\n",
      "factor_order 1\n"
     ]
    },
    {
     "name": "stderr",
     "output_type": "stream",
     "text": [
      "/Users/goonzard/Developer/ds-202501-health-econ-mlflow/.venv/lib/python3.12/site-packages/statsmodels/base/model.py:607: ConvergenceWarning: Maximum Likelihood optimization failed to converge. Check mle_retvals\n",
      "  warnings.warn(\"Maximum Likelihood optimization failed to \"\n",
      "Fitting Dynamic Factor Models:   6%|▌         | 15/241 [00:17<03:29,  1.08it/s]"
     ]
    },
    {
     "name": "stdout",
     "output_type": "stream",
     "text": [
      "2025-10-12 20:41:11 | INFO     | pipeline.DynamicFactorModel | Fitting Dynamic Factor Model for substance amiodarone from 2021-01-01 00:00:00 to 2023-01-01 00:00:00\n",
      "2025-10-12 20:41:11 | INFO     | pipeline.DynamicFactorModel | Testing Dynamic Factor Model for substance amiodarone from 2023-01-01 00:00:00 to 2023-01-29 00:00:00\n"
     ]
    },
    {
     "name": "stderr",
     "output_type": "stream",
     "text": [
      "/Users/goonzard/Developer/ds-202501-health-econ-mlflow/.venv/lib/python3.12/site-packages/umap/umap_.py:1952: UserWarning: n_jobs value 1 overridden to 1 by setting random_state. Use no seed for parallelism.\n",
      "  warn(\n"
     ]
    },
    {
     "name": "stdout",
     "output_type": "stream",
     "text": [
      "Fitting Dynamic Factor Model - startx\n",
      "[[  4.7961087   -0.9885285    4.20071    ...   0.43413645   1.9733276\n",
      "   -4.643681  ]\n",
      " [  4.834251    -1.0774738    4.305556   ...   0.5505644    1.8037236\n",
      "   -4.6661005 ]\n",
      " [  4.792972    -1.1051222    4.3983426  ...   0.41618568   1.9707941\n",
      "   -4.670121  ]\n",
      " ...\n",
      " [  4.6058373   12.755304     5.038794   ...   0.79253596   7.5927014\n",
      "    8.188698  ]\n",
      " [  4.645935    12.701869     5.0227265  ...   0.8177073    7.6385574\n",
      "    8.251151  ]\n",
      " [-11.266118     1.1129518    6.7305455  ...   6.8942566    7.3618264\n",
      "    7.4725394 ]]\n",
      "shape (105, 10)\n",
      "k_factors 5\n",
      "factor_order 1\n"
     ]
    },
    {
     "name": "stderr",
     "output_type": "stream",
     "text": [
      "/Users/goonzard/Developer/ds-202501-health-econ-mlflow/.venv/lib/python3.12/site-packages/statsmodels/base/model.py:607: ConvergenceWarning: Maximum Likelihood optimization failed to converge. Check mle_retvals\n",
      "  warnings.warn(\"Maximum Likelihood optimization failed to \"\n",
      "Fitting Dynamic Factor Models:   7%|▋         | 16/241 [00:18<03:31,  1.07it/s]"
     ]
    },
    {
     "name": "stdout",
     "output_type": "stream",
     "text": [
      "2025-10-12 20:41:12 | INFO     | pipeline.DynamicFactorModel | Fitting Dynamic Factor Model for substance amlodipine from 2021-01-01 00:00:00 to 2023-01-01 00:00:00\n",
      "2025-10-12 20:41:12 | INFO     | pipeline.DynamicFactorModel | Testing Dynamic Factor Model for substance amlodipine from 2023-01-01 00:00:00 to 2023-01-29 00:00:00\n"
     ]
    },
    {
     "name": "stderr",
     "output_type": "stream",
     "text": [
      "/Users/goonzard/Developer/ds-202501-health-econ-mlflow/.venv/lib/python3.12/site-packages/umap/umap_.py:1952: UserWarning: n_jobs value 1 overridden to 1 by setting random_state. Use no seed for parallelism.\n",
      "  warn(\n"
     ]
    },
    {
     "name": "stdout",
     "output_type": "stream",
     "text": [
      "Fitting Dynamic Factor Model - startx\n",
      "[[-15.795844     4.5255446   -0.8947581  ...  20.180454     5.674253\n",
      "   -8.427341  ]\n",
      " [-15.560659     4.492618    -0.82763207 ...  19.997616     5.67648\n",
      "   -8.574749  ]\n",
      " [-15.649262     4.4460554   -0.9454672  ...  20.16264      5.6701674\n",
      "   -8.505382  ]\n",
      " ...\n",
      " [-25.416195    13.545464    -1.6566435  ...  31.838318     0.47101003\n",
      "   -9.72742   ]\n",
      " [-25.50259     13.62812     -1.5176418  ...  31.834154     0.48284945\n",
      "   -9.730353  ]\n",
      " [-15.788487     4.8351264   -0.69340676 ...  20.214613     5.5953865\n",
      "   -8.691962  ]]\n",
      "shape (105, 10)\n",
      "k_factors 5\n",
      "factor_order 1\n"
     ]
    },
    {
     "name": "stderr",
     "output_type": "stream",
     "text": [
      "/Users/goonzard/Developer/ds-202501-health-econ-mlflow/.venv/lib/python3.12/site-packages/statsmodels/base/model.py:607: ConvergenceWarning: Maximum Likelihood optimization failed to converge. Check mle_retvals\n",
      "  warnings.warn(\"Maximum Likelihood optimization failed to \"\n",
      "Fitting Dynamic Factor Models:   7%|▋         | 17/241 [00:19<03:31,  1.06it/s]"
     ]
    },
    {
     "name": "stdout",
     "output_type": "stream",
     "text": [
      "2025-10-12 20:41:13 | INFO     | pipeline.DynamicFactorModel | Fitting Dynamic Factor Model for substance amoxicillin from 2021-01-01 00:00:00 to 2023-01-01 00:00:00\n",
      "2025-10-12 20:41:13 | INFO     | pipeline.DynamicFactorModel | Testing Dynamic Factor Model for substance amoxicillin from 2023-01-01 00:00:00 to 2023-01-29 00:00:00\n"
     ]
    },
    {
     "name": "stderr",
     "output_type": "stream",
     "text": [
      "/Users/goonzard/Developer/ds-202501-health-econ-mlflow/.venv/lib/python3.12/site-packages/umap/umap_.py:1952: UserWarning: n_jobs value 1 overridden to 1 by setting random_state. Use no seed for parallelism.\n",
      "  warn(\n"
     ]
    },
    {
     "name": "stdout",
     "output_type": "stream",
     "text": [
      "Fitting Dynamic Factor Model - startx\n",
      "[[16.09095    11.45006     2.1139495  ... 12.592058   -8.984942\n",
      "  20.259718  ]\n",
      " [16.096178   11.35637     1.8500152  ... 12.421531   -8.788446\n",
      "  20.18358   ]\n",
      " [15.981084   11.548646    1.8598918  ... 12.74398    -8.673299\n",
      "  20.660278  ]\n",
      " ...\n",
      " [-0.9821887  -2.6293654   6.0704713  ...  8.939054    1.8025802\n",
      "   1.8569614 ]\n",
      " [-1.4753833  -3.3819716   6.645801   ...  9.3903675   1.6715771\n",
      "   1.6161036 ]\n",
      " [-0.85184425 -3.3305507   6.1080637  ...  9.171167    1.6462752\n",
      "   1.5751241 ]]\n",
      "shape (105, 10)\n",
      "k_factors 5\n",
      "factor_order 1\n"
     ]
    },
    {
     "name": "stderr",
     "output_type": "stream",
     "text": [
      "/Users/goonzard/Developer/ds-202501-health-econ-mlflow/.venv/lib/python3.12/site-packages/statsmodels/base/model.py:607: ConvergenceWarning: Maximum Likelihood optimization failed to converge. Check mle_retvals\n",
      "  warnings.warn(\"Maximum Likelihood optimization failed to \"\n",
      "Fitting Dynamic Factor Models:   7%|▋         | 18/241 [00:20<03:35,  1.04it/s]"
     ]
    },
    {
     "name": "stdout",
     "output_type": "stream",
     "text": [
      "2025-10-12 20:41:14 | INFO     | pipeline.DynamicFactorModel | Fitting Dynamic Factor Model for substance amoxicillin and beta-lactamase inhibitor from 2021-01-01 00:00:00 to 2023-01-01 00:00:00\n",
      "2025-10-12 20:41:14 | INFO     | pipeline.DynamicFactorModel | Testing Dynamic Factor Model for substance amoxicillin and beta-lactamase inhibitor from 2023-01-01 00:00:00 to 2023-01-29 00:00:00\n"
     ]
    },
    {
     "name": "stderr",
     "output_type": "stream",
     "text": [
      "/Users/goonzard/Developer/ds-202501-health-econ-mlflow/.venv/lib/python3.12/site-packages/umap/umap_.py:1952: UserWarning: n_jobs value 1 overridden to 1 by setting random_state. Use no seed for parallelism.\n",
      "  warn(\n"
     ]
    },
    {
     "name": "stdout",
     "output_type": "stream",
     "text": [
      "Fitting Dynamic Factor Model - startx\n",
      "[[  8.875073   11.784865    7.682949  ... -17.960924   -9.775915\n",
      "   -3.1396608]\n",
      " [  9.522228   12.126918    7.641997  ... -18.41173   -10.037213\n",
      "   -2.8349447]\n",
      " [  9.313608   12.091977    7.5501237 ... -18.339216   -9.875103\n",
      "   -3.0534213]\n",
      " ...\n",
      " [  3.718029    7.6201434  -7.0204115 ...  10.032081   13.709629\n",
      "    5.2524843]\n",
      " [  3.5506353   7.788201   -6.5673456 ...  10.146485   13.820631\n",
      "    5.526636 ]\n",
      " [  3.5859785   7.525099   -6.7648773 ...   9.731523   13.540904\n",
      "    5.3420286]]\n",
      "shape (105, 10)\n",
      "k_factors 5\n",
      "factor_order 1\n"
     ]
    },
    {
     "name": "stderr",
     "output_type": "stream",
     "text": [
      "/Users/goonzard/Developer/ds-202501-health-econ-mlflow/.venv/lib/python3.12/site-packages/statsmodels/base/model.py:607: ConvergenceWarning: Maximum Likelihood optimization failed to converge. Check mle_retvals\n",
      "  warnings.warn(\"Maximum Likelihood optimization failed to \"\n",
      "Fitting Dynamic Factor Models:   8%|▊         | 19/241 [00:21<03:35,  1.03it/s]"
     ]
    },
    {
     "name": "stdout",
     "output_type": "stream",
     "text": [
      "2025-10-12 20:41:15 | INFO     | pipeline.DynamicFactorModel | Fitting Dynamic Factor Model for substance atorvastatin from 2021-01-01 00:00:00 to 2023-01-01 00:00:00\n",
      "2025-10-12 20:41:15 | INFO     | pipeline.DynamicFactorModel | Testing Dynamic Factor Model for substance atorvastatin from 2023-01-01 00:00:00 to 2023-01-29 00:00:00\n"
     ]
    },
    {
     "name": "stderr",
     "output_type": "stream",
     "text": [
      "/Users/goonzard/Developer/ds-202501-health-econ-mlflow/.venv/lib/python3.12/site-packages/umap/umap_.py:1952: UserWarning: n_jobs value 1 overridden to 1 by setting random_state. Use no seed for parallelism.\n",
      "  warn(\n"
     ]
    },
    {
     "name": "stdout",
     "output_type": "stream",
     "text": [
      "Fitting Dynamic Factor Model - startx\n",
      "[[ 18.869778   37.045723   -9.446289  ...  -5.5735292 -20.972338\n",
      "   24.73996  ]\n",
      " [ 18.941692   37.109924   -9.352962  ...  -5.6708055 -21.035322\n",
      "   24.989672 ]\n",
      " [ 18.896395   37.025658   -9.662274  ...  -5.704247  -21.063639\n",
      "   24.88879  ]\n",
      " ...\n",
      " [ 18.425306   47.762062  -11.457437  ... -12.870292  -26.684156\n",
      "   25.88091  ]\n",
      " [ 18.429214   48.079365  -11.410885  ... -12.8769245 -26.817995\n",
      "   25.926077 ]\n",
      " [ 18.61906    37.174004   -9.327607  ...  -5.5548763 -20.907152\n",
      "   24.953554 ]]\n",
      "shape (105, 10)\n",
      "k_factors 5\n",
      "factor_order 1\n"
     ]
    },
    {
     "name": "stderr",
     "output_type": "stream",
     "text": [
      "/Users/goonzard/Developer/ds-202501-health-econ-mlflow/.venv/lib/python3.12/site-packages/statsmodels/base/model.py:607: ConvergenceWarning: Maximum Likelihood optimization failed to converge. Check mle_retvals\n",
      "  warnings.warn(\"Maximum Likelihood optimization failed to \"\n",
      "Fitting Dynamic Factor Models:   8%|▊         | 20/241 [00:22<03:30,  1.05it/s]"
     ]
    },
    {
     "name": "stdout",
     "output_type": "stream",
     "text": [
      "2025-10-12 20:41:16 | INFO     | pipeline.DynamicFactorModel | Fitting Dynamic Factor Model for substance baclofen from 2021-01-01 00:00:00 to 2023-01-01 00:00:00\n",
      "2025-10-12 20:41:16 | INFO     | pipeline.DynamicFactorModel | Testing Dynamic Factor Model for substance baclofen from 2023-01-01 00:00:00 to 2023-01-29 00:00:00\n"
     ]
    },
    {
     "name": "stderr",
     "output_type": "stream",
     "text": [
      "/Users/goonzard/Developer/ds-202501-health-econ-mlflow/.venv/lib/python3.12/site-packages/umap/umap_.py:1952: UserWarning: n_jobs value 1 overridden to 1 by setting random_state. Use no seed for parallelism.\n",
      "  warn(\n"
     ]
    },
    {
     "name": "stdout",
     "output_type": "stream",
     "text": [
      "Fitting Dynamic Factor Model - startx\n",
      "[[10.333971   -4.2725844  -2.1700952  ...  0.18871874 -2.6516702\n",
      "  -1.009263  ]\n",
      " [10.351697   -4.273747   -2.285472   ...  0.19625816 -2.4789968\n",
      "  -0.83475417]\n",
      " [10.299001   -4.4509993  -2.3017602  ...  0.1891091  -2.5929766\n",
      "  -0.9509526 ]\n",
      " ...\n",
      " [-3.2835648  -3.9565613  11.344388   ...  1.6091763  -8.05303\n",
      "  -5.498778  ]\n",
      " [-3.263865   -4.0448174  11.34123    ...  1.4688065  -7.881966\n",
      "  -5.604372  ]\n",
      " [12.06564    10.554832    7.1201305  ...  7.2689657  14.447107\n",
      "  11.537829  ]]\n",
      "shape (105, 10)\n",
      "k_factors 5\n",
      "factor_order 1\n"
     ]
    },
    {
     "name": "stderr",
     "output_type": "stream",
     "text": [
      "/Users/goonzard/Developer/ds-202501-health-econ-mlflow/.venv/lib/python3.12/site-packages/statsmodels/base/model.py:607: ConvergenceWarning: Maximum Likelihood optimization failed to converge. Check mle_retvals\n",
      "  warnings.warn(\"Maximum Likelihood optimization failed to \"\n",
      "Fitting Dynamic Factor Models:   9%|▊         | 21/241 [00:23<03:33,  1.03it/s]"
     ]
    },
    {
     "name": "stdout",
     "output_type": "stream",
     "text": [
      "2025-10-12 20:41:17 | INFO     | pipeline.DynamicFactorModel | Fitting Dynamic Factor Model for substance bethanechol from 2021-01-01 00:00:00 to 2023-01-01 00:00:00\n",
      "2025-10-12 20:41:17 | INFO     | pipeline.DynamicFactorModel | Testing Dynamic Factor Model for substance bethanechol from 2023-01-01 00:00:00 to 2023-01-29 00:00:00\n"
     ]
    },
    {
     "name": "stderr",
     "output_type": "stream",
     "text": [
      "/Users/goonzard/Developer/ds-202501-health-econ-mlflow/.venv/lib/python3.12/site-packages/umap/umap_.py:1952: UserWarning: n_jobs value 1 overridden to 1 by setting random_state. Use no seed for parallelism.\n",
      "  warn(\n"
     ]
    },
    {
     "name": "stdout",
     "output_type": "stream",
     "text": [
      "Fitting Dynamic Factor Model - startx\n",
      "[[  6.15852     6.090855    2.8325832 ...   6.7774777   1.2119863\n",
      "    5.1280212]\n",
      " [  6.0915723   5.916599    2.8549452 ...   6.957626    1.189578\n",
      "    5.356425 ]\n",
      " [  6.1311893   5.802867    2.7246797 ...   6.936735    1.1504378\n",
      "    5.257972 ]\n",
      " ...\n",
      " [-21.6584     11.293401  -11.819077  ...  -4.8858843   5.665441\n",
      "    8.847577 ]\n",
      " [-21.845297   11.30099   -11.897746  ...  -4.8673415   5.7008667\n",
      "    8.722145 ]\n",
      " [-20.818722   11.100941  -10.318596  ...  -2.8489294   5.5601354\n",
      "    8.868595 ]]\n",
      "shape (105, 10)\n",
      "k_factors 5\n",
      "factor_order 1\n"
     ]
    },
    {
     "name": "stderr",
     "output_type": "stream",
     "text": [
      "/Users/goonzard/Developer/ds-202501-health-econ-mlflow/.venv/lib/python3.12/site-packages/statsmodels/base/model.py:607: ConvergenceWarning: Maximum Likelihood optimization failed to converge. Check mle_retvals\n",
      "  warnings.warn(\"Maximum Likelihood optimization failed to \"\n",
      "Fitting Dynamic Factor Models:   9%|▉         | 22/241 [00:24<03:29,  1.04it/s]"
     ]
    },
    {
     "name": "stdout",
     "output_type": "stream",
     "text": [
      "2025-10-12 20:41:18 | INFO     | pipeline.DynamicFactorModel | Fitting Dynamic Factor Model for substance bromhexine from 2021-01-01 00:00:00 to 2023-01-01 00:00:00\n",
      "2025-10-12 20:41:18 | INFO     | pipeline.DynamicFactorModel | Testing Dynamic Factor Model for substance bromhexine from 2023-01-01 00:00:00 to 2023-01-29 00:00:00\n"
     ]
    },
    {
     "name": "stderr",
     "output_type": "stream",
     "text": [
      "/Users/goonzard/Developer/ds-202501-health-econ-mlflow/.venv/lib/python3.12/site-packages/umap/umap_.py:1952: UserWarning: n_jobs value 1 overridden to 1 by setting random_state. Use no seed for parallelism.\n",
      "  warn(\n"
     ]
    },
    {
     "name": "stdout",
     "output_type": "stream",
     "text": [
      "Fitting Dynamic Factor Model - startx\n",
      "[[ 7.8305264  18.365856    2.4230907  ... 11.769691   21.912506\n",
      "   0.8060302 ]\n",
      " [ 7.6723075  18.441702    2.2839746  ... 11.864537   21.779955\n",
      "   0.62359005]\n",
      " [ 7.5479317  18.385307    2.4013083  ... 11.838048   21.581615\n",
      "   0.8327837 ]\n",
      " ...\n",
      " [-2.364603   -2.279315   11.762098   ...  9.930475    1.9085695\n",
      "  12.975542  ]\n",
      " [-2.3781254  -1.8671856  11.661823   ...  9.254481    2.4357052\n",
      "  13.902618  ]\n",
      " [-2.4366875  -1.7403427  11.914174   ...  9.850693    2.2855542\n",
      "  13.752702  ]]\n",
      "shape (105, 10)\n",
      "k_factors 5\n",
      "factor_order 1\n"
     ]
    },
    {
     "name": "stderr",
     "output_type": "stream",
     "text": [
      "/Users/goonzard/Developer/ds-202501-health-econ-mlflow/.venv/lib/python3.12/site-packages/statsmodels/base/model.py:607: ConvergenceWarning: Maximum Likelihood optimization failed to converge. Check mle_retvals\n",
      "  warnings.warn(\"Maximum Likelihood optimization failed to \"\n",
      "Fitting Dynamic Factor Models:  10%|▉         | 23/241 [00:25<03:31,  1.03it/s]"
     ]
    },
    {
     "name": "stdout",
     "output_type": "stream",
     "text": [
      "2025-10-12 20:41:19 | INFO     | pipeline.DynamicFactorModel | Fitting Dynamic Factor Model for substance budesonide from 2021-01-01 00:00:00 to 2023-01-01 00:00:00\n",
      "2025-10-12 20:41:19 | INFO     | pipeline.DynamicFactorModel | Testing Dynamic Factor Model for substance budesonide from 2023-01-01 00:00:00 to 2023-01-29 00:00:00\n"
     ]
    },
    {
     "name": "stderr",
     "output_type": "stream",
     "text": [
      "/Users/goonzard/Developer/ds-202501-health-econ-mlflow/.venv/lib/python3.12/site-packages/umap/umap_.py:1952: UserWarning: n_jobs value 1 overridden to 1 by setting random_state. Use no seed for parallelism.\n",
      "  warn(\n"
     ]
    },
    {
     "name": "stdout",
     "output_type": "stream",
     "text": [
      "Fitting Dynamic Factor Model - startx\n",
      "[[ 9.711875   13.320027   16.851225   ...  7.378637    0.98577136\n",
      "  13.743216  ]\n",
      " [10.029796   14.977112   16.551514   ...  8.633381   -0.25814903\n",
      "  15.584353  ]\n",
      " [ 9.986893   13.365779   16.588305   ...  7.7509675   0.8223003\n",
      "  13.758027  ]\n",
      " ...\n",
      " [ 9.136292   14.295926   14.912595   ...  8.26877     2.4771655\n",
      "  10.275708  ]\n",
      " [ 9.237893   14.481672   14.860252   ...  8.263397    2.165722\n",
      "  10.415029  ]\n",
      " [ 9.625879   12.6735935  17.23444    ...  7.1075673   1.7303302\n",
      "  12.42018   ]]\n",
      "shape (105, 10)\n",
      "k_factors 5\n",
      "factor_order 1\n"
     ]
    },
    {
     "name": "stderr",
     "output_type": "stream",
     "text": [
      "/Users/goonzard/Developer/ds-202501-health-econ-mlflow/.venv/lib/python3.12/site-packages/statsmodels/base/model.py:607: ConvergenceWarning: Maximum Likelihood optimization failed to converge. Check mle_retvals\n",
      "  warnings.warn(\"Maximum Likelihood optimization failed to \"\n",
      "Fitting Dynamic Factor Models:  10%|▉         | 24/241 [00:26<03:34,  1.01it/s]"
     ]
    },
    {
     "name": "stdout",
     "output_type": "stream",
     "text": [
      "2025-10-12 20:41:20 | INFO     | pipeline.DynamicFactorModel | Fitting Dynamic Factor Model for substance carbocisteine from 2021-01-01 00:00:00 to 2023-01-01 00:00:00\n",
      "2025-10-12 20:41:20 | INFO     | pipeline.DynamicFactorModel | Testing Dynamic Factor Model for substance carbocisteine from 2023-01-01 00:00:00 to 2023-01-29 00:00:00\n"
     ]
    },
    {
     "name": "stderr",
     "output_type": "stream",
     "text": [
      "/Users/goonzard/Developer/ds-202501-health-econ-mlflow/.venv/lib/python3.12/site-packages/umap/umap_.py:1952: UserWarning: n_jobs value 1 overridden to 1 by setting random_state. Use no seed for parallelism.\n",
      "  warn(\n"
     ]
    },
    {
     "name": "stdout",
     "output_type": "stream",
     "text": [
      "Fitting Dynamic Factor Model - startx\n",
      "[[16.383404    8.068728   14.384352   ...  8.477016    6.2618446\n",
      "  11.684499  ]\n",
      " [16.600601    8.314253   14.387171   ...  8.328329    6.3360147\n",
      "  11.668349  ]\n",
      " [16.556257    8.154613   14.277813   ...  8.545566    6.2818403\n",
      "  11.738798  ]\n",
      " ...\n",
      " [-7.532825    2.8675117   0.04670507 ... 12.131573    3.3623834\n",
      "   2.9019241 ]\n",
      " [-7.2669845   3.2016516  -0.08722138 ... 12.717657    3.476502\n",
      "   2.987662  ]\n",
      " [-7.8727546   2.790889   -0.02304931 ... 11.952363    3.5095367\n",
      "   2.8243372 ]]\n",
      "shape (105, 10)\n",
      "k_factors 5\n",
      "factor_order 1\n"
     ]
    },
    {
     "name": "stderr",
     "output_type": "stream",
     "text": [
      "/Users/goonzard/Developer/ds-202501-health-econ-mlflow/.venv/lib/python3.12/site-packages/statsmodels/base/model.py:607: ConvergenceWarning: Maximum Likelihood optimization failed to converge. Check mle_retvals\n",
      "  warnings.warn(\"Maximum Likelihood optimization failed to \"\n",
      "Fitting Dynamic Factor Models:  10%|█         | 25/241 [00:27<03:37,  1.01s/it]"
     ]
    },
    {
     "name": "stdout",
     "output_type": "stream",
     "text": [
      "2025-10-12 20:41:21 | INFO     | pipeline.DynamicFactorModel | Fitting Dynamic Factor Model for substance carvedilol from 2021-01-01 00:00:00 to 2023-01-01 00:00:00\n",
      "2025-10-12 20:41:21 | INFO     | pipeline.DynamicFactorModel | Testing Dynamic Factor Model for substance carvedilol from 2023-01-01 00:00:00 to 2023-01-29 00:00:00\n"
     ]
    },
    {
     "name": "stderr",
     "output_type": "stream",
     "text": [
      "/Users/goonzard/Developer/ds-202501-health-econ-mlflow/.venv/lib/python3.12/site-packages/umap/umap_.py:1952: UserWarning: n_jobs value 1 overridden to 1 by setting random_state. Use no seed for parallelism.\n",
      "  warn(\n"
     ]
    },
    {
     "name": "stdout",
     "output_type": "stream",
     "text": [
      "Fitting Dynamic Factor Model - startx\n",
      "[[ 3.0006912  3.4065306 27.590988  ... -8.091971  14.579567   5.9434867]\n",
      " [ 2.9006069  3.397631  27.710245  ... -8.074739  14.55621    5.9863954]\n",
      " [ 2.9239702  3.305948  27.670012  ... -8.202331  14.491437   6.089764 ]\n",
      " ...\n",
      " [ 5.3349576  5.9783235 24.631386  ... -4.373967  10.6806965  4.41569  ]\n",
      " [ 5.599216   5.8427243 24.45005   ... -4.3892846 10.824716   4.0891223]\n",
      " [ 2.5303295  3.254742  28.290527  ... -8.064256  14.415441   6.213428 ]]\n",
      "shape (105, 10)\n",
      "k_factors 5\n",
      "factor_order 1\n"
     ]
    },
    {
     "name": "stderr",
     "output_type": "stream",
     "text": [
      "/Users/goonzard/Developer/ds-202501-health-econ-mlflow/.venv/lib/python3.12/site-packages/statsmodels/base/model.py:607: ConvergenceWarning: Maximum Likelihood optimization failed to converge. Check mle_retvals\n",
      "  warnings.warn(\"Maximum Likelihood optimization failed to \"\n",
      "Fitting Dynamic Factor Models:  11%|█         | 26/241 [00:28<03:35,  1.00s/it]"
     ]
    },
    {
     "name": "stdout",
     "output_type": "stream",
     "text": [
      "2025-10-12 20:41:22 | INFO     | pipeline.DynamicFactorModel | Fitting Dynamic Factor Model for substance cefradine from 2021-01-01 00:00:00 to 2023-01-01 00:00:00\n",
      "2025-10-12 20:41:22 | INFO     | pipeline.DynamicFactorModel | Testing Dynamic Factor Model for substance cefradine from 2023-01-01 00:00:00 to 2023-01-29 00:00:00\n"
     ]
    },
    {
     "name": "stderr",
     "output_type": "stream",
     "text": [
      "/Users/goonzard/Developer/ds-202501-health-econ-mlflow/.venv/lib/python3.12/site-packages/umap/umap_.py:1952: UserWarning: n_jobs value 1 overridden to 1 by setting random_state. Use no seed for parallelism.\n",
      "  warn(\n"
     ]
    },
    {
     "name": "stdout",
     "output_type": "stream",
     "text": [
      "Fitting Dynamic Factor Model - startx\n",
      "[[ 17.461666    1.2308438 -12.027023  ...  -4.900583    8.730402\n",
      "   -2.0730574]\n",
      " [ 17.584051    1.3918369 -12.326989  ...  -4.854016    8.835851\n",
      "   -2.0939717]\n",
      " [ 17.562243    1.2303718 -12.234588  ...  -4.969017    8.65916\n",
      "   -2.1044874]\n",
      " ...\n",
      " [ 17.517437    1.3496027 -11.851034  ...  -4.812232    8.617611\n",
      "   -2.4179518]\n",
      " [ 17.484406    1.6913716 -12.0608    ...  -4.7783446   8.790601\n",
      "   -2.0732026]\n",
      " [  1.1830246  19.69908     5.5489655 ...   9.143467    5.874452\n",
      "    5.9155993]]\n",
      "shape (105, 10)\n",
      "k_factors 5\n",
      "factor_order 1\n"
     ]
    },
    {
     "name": "stderr",
     "output_type": "stream",
     "text": [
      "/Users/goonzard/Developer/ds-202501-health-econ-mlflow/.venv/lib/python3.12/site-packages/statsmodels/base/model.py:607: ConvergenceWarning: Maximum Likelihood optimization failed to converge. Check mle_retvals\n",
      "  warnings.warn(\"Maximum Likelihood optimization failed to \"\n",
      "Fitting Dynamic Factor Models:  11%|█         | 27/241 [00:29<03:32,  1.00it/s]"
     ]
    },
    {
     "name": "stdout",
     "output_type": "stream",
     "text": [
      "2025-10-12 20:41:23 | INFO     | pipeline.DynamicFactorModel | Fitting Dynamic Factor Model for substance ceftriaxone from 2021-01-01 00:00:00 to 2023-01-01 00:00:00\n",
      "2025-10-12 20:41:23 | INFO     | pipeline.DynamicFactorModel | Testing Dynamic Factor Model for substance ceftriaxone from 2023-01-01 00:00:00 to 2023-01-29 00:00:00\n"
     ]
    },
    {
     "name": "stderr",
     "output_type": "stream",
     "text": [
      "/Users/goonzard/Developer/ds-202501-health-econ-mlflow/.venv/lib/python3.12/site-packages/umap/umap_.py:1952: UserWarning: n_jobs value 1 overridden to 1 by setting random_state. Use no seed for parallelism.\n",
      "  warn(\n"
     ]
    },
    {
     "name": "stdout",
     "output_type": "stream",
     "text": [
      "Fitting Dynamic Factor Model - startx\n",
      "[[ 7.621351  -5.1581473  8.288843  ...  5.44387    1.459908  15.340471 ]\n",
      " [ 7.771828  -5.1265197  8.145452  ...  6.2305584  1.1352298 15.344958 ]\n",
      " [ 7.892745  -5.092558   8.475788  ...  6.13333    1.3121275 15.172675 ]\n",
      " ...\n",
      " [ 7.7758293 -5.7379665  8.685575  ...  6.202745   1.4032199 15.044305 ]\n",
      " [ 7.7025385 -5.601561   8.511882  ...  6.320304   1.3058474 15.090007 ]\n",
      " [ 6.262753  -3.7791634  6.2122345 ...  7.774665   1.0767658 14.916607 ]]\n",
      "shape (105, 10)\n",
      "k_factors 5\n",
      "factor_order 1\n"
     ]
    },
    {
     "name": "stderr",
     "output_type": "stream",
     "text": [
      "/Users/goonzard/Developer/ds-202501-health-econ-mlflow/.venv/lib/python3.12/site-packages/statsmodels/base/model.py:607: ConvergenceWarning: Maximum Likelihood optimization failed to converge. Check mle_retvals\n",
      "  warnings.warn(\"Maximum Likelihood optimization failed to \"\n",
      "Fitting Dynamic Factor Models:  12%|█▏        | 28/241 [00:30<03:29,  1.02it/s]"
     ]
    },
    {
     "name": "stdout",
     "output_type": "stream",
     "text": [
      "2025-10-12 20:41:24 | INFO     | pipeline.DynamicFactorModel | Fitting Dynamic Factor Model for substance celecoxib from 2021-01-01 00:00:00 to 2023-01-01 00:00:00\n",
      "2025-10-12 20:41:24 | INFO     | pipeline.DynamicFactorModel | Testing Dynamic Factor Model for substance celecoxib from 2023-01-01 00:00:00 to 2023-01-29 00:00:00\n"
     ]
    },
    {
     "name": "stderr",
     "output_type": "stream",
     "text": [
      "/Users/goonzard/Developer/ds-202501-health-econ-mlflow/.venv/lib/python3.12/site-packages/umap/umap_.py:1952: UserWarning: n_jobs value 1 overridden to 1 by setting random_state. Use no seed for parallelism.\n",
      "  warn(\n"
     ]
    },
    {
     "name": "stdout",
     "output_type": "stream",
     "text": [
      "Fitting Dynamic Factor Model - startx\n",
      "[[  0.74811107 -14.440819   -16.841951   ...   9.306784     8.005409\n",
      "   -9.75954   ]\n",
      " [  0.84824437 -14.518027   -16.771988   ...   9.46167      7.831255\n",
      "   -9.833288  ]\n",
      " [  0.6954846  -14.37107    -16.893976   ...   9.409358     7.7754974\n",
      "   -9.704695  ]\n",
      " ...\n",
      " [ -0.1765833  -18.99565    -24.092413   ...   8.920494     5.4686384\n",
      "  -13.775517  ]\n",
      " [ -0.12730189 -19.016872   -23.940128   ...   8.733426     5.4191093\n",
      "  -13.683983  ]\n",
      " [  0.5950094  -14.219814   -16.695744   ...   9.698072     7.928321\n",
      "   -9.636544  ]]\n",
      "shape (105, 10)\n",
      "k_factors 5\n",
      "factor_order 1\n"
     ]
    },
    {
     "name": "stderr",
     "output_type": "stream",
     "text": [
      "/Users/goonzard/Developer/ds-202501-health-econ-mlflow/.venv/lib/python3.12/site-packages/statsmodels/base/model.py:607: ConvergenceWarning: Maximum Likelihood optimization failed to converge. Check mle_retvals\n",
      "  warnings.warn(\"Maximum Likelihood optimization failed to \"\n",
      "Fitting Dynamic Factor Models:  12%|█▏        | 29/241 [00:31<03:25,  1.03it/s]"
     ]
    },
    {
     "name": "stdout",
     "output_type": "stream",
     "text": [
      "2025-10-12 20:41:25 | INFO     | pipeline.DynamicFactorModel | Fitting Dynamic Factor Model for substance cetirizine from 2021-01-01 00:00:00 to 2023-01-01 00:00:00\n",
      "2025-10-12 20:41:25 | INFO     | pipeline.DynamicFactorModel | Testing Dynamic Factor Model for substance cetirizine from 2023-01-01 00:00:00 to 2023-01-29 00:00:00\n"
     ]
    },
    {
     "name": "stderr",
     "output_type": "stream",
     "text": [
      "/Users/goonzard/Developer/ds-202501-health-econ-mlflow/.venv/lib/python3.12/site-packages/umap/umap_.py:1952: UserWarning: n_jobs value 1 overridden to 1 by setting random_state. Use no seed for parallelism.\n",
      "  warn(\n"
     ]
    },
    {
     "name": "stdout",
     "output_type": "stream",
     "text": [
      "Fitting Dynamic Factor Model - startx\n",
      "[[-9.303287   -6.1413364  10.859497   ... -8.482979   26.236656\n",
      "   2.896171  ]\n",
      " [-9.465743   -6.10451    10.851579   ... -8.641062   26.298063\n",
      "   3.0882776 ]\n",
      " [-9.435268   -6.0137906  10.782915   ... -8.601924   26.30837\n",
      "   3.0193176 ]\n",
      " ...\n",
      " [ 9.370169    3.1546154   9.901503   ... 12.480039    0.27597246\n",
      "  17.130264  ]\n",
      " [ 9.229081    3.1007178  10.10745    ... 12.530169    0.07748815\n",
      "  17.121374  ]\n",
      " [-9.053359   -8.332216   12.348072   ... -8.3095665  26.007105\n",
      "   2.648408  ]]\n",
      "shape (105, 10)\n",
      "k_factors 5\n",
      "factor_order 1\n"
     ]
    },
    {
     "name": "stderr",
     "output_type": "stream",
     "text": [
      "/Users/goonzard/Developer/ds-202501-health-econ-mlflow/.venv/lib/python3.12/site-packages/statsmodels/base/model.py:607: ConvergenceWarning: Maximum Likelihood optimization failed to converge. Check mle_retvals\n",
      "  warnings.warn(\"Maximum Likelihood optimization failed to \"\n",
      "Fitting Dynamic Factor Models:  12%|█▏        | 30/241 [00:31<03:22,  1.04it/s]"
     ]
    },
    {
     "name": "stdout",
     "output_type": "stream",
     "text": [
      "2025-10-12 20:41:26 | INFO     | pipeline.DynamicFactorModel | Fitting Dynamic Factor Model for substance chlorphenamine from 2021-01-01 00:00:00 to 2023-01-01 00:00:00\n",
      "2025-10-12 20:41:26 | INFO     | pipeline.DynamicFactorModel | Testing Dynamic Factor Model for substance chlorphenamine from 2023-01-01 00:00:00 to 2023-01-29 00:00:00\n"
     ]
    },
    {
     "name": "stderr",
     "output_type": "stream",
     "text": [
      "/Users/goonzard/Developer/ds-202501-health-econ-mlflow/.venv/lib/python3.12/site-packages/umap/umap_.py:1952: UserWarning: n_jobs value 1 overridden to 1 by setting random_state. Use no seed for parallelism.\n",
      "  warn(\n"
     ]
    },
    {
     "name": "stdout",
     "output_type": "stream",
     "text": [
      "Fitting Dynamic Factor Model - startx\n",
      "[[10.952505  11.34909    8.075404  ... 13.063638  13.202326   8.684179 ]\n",
      " [11.002292  11.34343    7.7557125 ... 13.0116625 13.227253   8.841979 ]\n",
      " [10.940724  11.48348    8.145134  ... 13.108133  13.239573   8.5124855]\n",
      " ...\n",
      " [-4.392042   6.7615285  6.6900024 ... -1.2396476  2.9919949 -3.1313288]\n",
      " [-4.323613   6.903907   6.7450395 ... -1.3835118  2.9819129 -3.0122766]\n",
      " [10.801041  11.448437   8.063714  ... 13.002442  13.242289   8.684042 ]]\n",
      "shape (105, 10)\n",
      "k_factors 5\n",
      "factor_order 1\n"
     ]
    },
    {
     "name": "stderr",
     "output_type": "stream",
     "text": [
      "/Users/goonzard/Developer/ds-202501-health-econ-mlflow/.venv/lib/python3.12/site-packages/statsmodels/base/model.py:607: ConvergenceWarning: Maximum Likelihood optimization failed to converge. Check mle_retvals\n",
      "  warnings.warn(\"Maximum Likelihood optimization failed to \"\n",
      "Fitting Dynamic Factor Models:  13%|█▎        | 31/241 [00:33<03:24,  1.03it/s]"
     ]
    },
    {
     "name": "stdout",
     "output_type": "stream",
     "text": [
      "2025-10-12 20:41:27 | INFO     | pipeline.DynamicFactorModel | Fitting Dynamic Factor Model for substance ciprofloxacin from 2021-01-01 00:00:00 to 2023-01-01 00:00:00\n",
      "2025-10-12 20:41:27 | INFO     | pipeline.DynamicFactorModel | Testing Dynamic Factor Model for substance ciprofloxacin from 2023-01-01 00:00:00 to 2023-01-29 00:00:00\n"
     ]
    },
    {
     "name": "stderr",
     "output_type": "stream",
     "text": [
      "/Users/goonzard/Developer/ds-202501-health-econ-mlflow/.venv/lib/python3.12/site-packages/umap/umap_.py:1952: UserWarning: n_jobs value 1 overridden to 1 by setting random_state. Use no seed for parallelism.\n",
      "  warn(\n"
     ]
    },
    {
     "name": "stdout",
     "output_type": "stream",
     "text": [
      "Fitting Dynamic Factor Model - startx\n",
      "[[ 8.870848  12.527433   9.113073  ...  6.230359   2.0569022  3.0606916]\n",
      " [ 8.967894  12.913638   8.832558  ...  6.3827457  1.5971528  2.4300978]\n",
      " [ 9.203079  12.419266   8.97997   ...  6.0641026  1.8075637  3.3553815]\n",
      " ...\n",
      " [ 9.180159  12.266008   9.433363  ...  5.778706   1.8432044  3.1611469]\n",
      " [ 7.591154  12.067308   8.310553  ...  6.1935806  1.06513    1.8272785]\n",
      " [ 7.4926505 12.159893   8.320256  ...  6.3394957  1.2433033  1.9819098]]\n",
      "shape (105, 10)\n",
      "k_factors 5\n",
      "factor_order 1\n"
     ]
    },
    {
     "name": "stderr",
     "output_type": "stream",
     "text": [
      "/Users/goonzard/Developer/ds-202501-health-econ-mlflow/.venv/lib/python3.12/site-packages/statsmodels/base/model.py:607: ConvergenceWarning: Maximum Likelihood optimization failed to converge. Check mle_retvals\n",
      "  warnings.warn(\"Maximum Likelihood optimization failed to \"\n",
      "Fitting Dynamic Factor Models:  13%|█▎        | 32/241 [00:33<03:23,  1.03it/s]"
     ]
    },
    {
     "name": "stdout",
     "output_type": "stream",
     "text": [
      "2025-10-12 20:41:28 | INFO     | pipeline.DynamicFactorModel | Fitting Dynamic Factor Model for substance clonazepam from 2021-01-01 00:00:00 to 2023-01-01 00:00:00\n",
      "2025-10-12 20:41:28 | INFO     | pipeline.DynamicFactorModel | Testing Dynamic Factor Model for substance clonazepam from 2023-01-01 00:00:00 to 2023-01-29 00:00:00\n"
     ]
    },
    {
     "name": "stderr",
     "output_type": "stream",
     "text": [
      "/Users/goonzard/Developer/ds-202501-health-econ-mlflow/.venv/lib/python3.12/site-packages/umap/umap_.py:1952: UserWarning: n_jobs value 1 overridden to 1 by setting random_state. Use no seed for parallelism.\n",
      "  warn(\n"
     ]
    },
    {
     "name": "stdout",
     "output_type": "stream",
     "text": [
      "Fitting Dynamic Factor Model - startx\n",
      "[[ -9.864592     6.790346     0.89239806 ...   4.4961023    3.2090502\n",
      "    4.7217793 ]\n",
      " [-10.017124     6.634044     0.7426726  ...   4.5893903    3.1345751\n",
      "    4.8239512 ]\n",
      " [ -9.877075     6.8740125    0.6611441  ...   4.6999817    3.2763894\n",
      "    4.8097906 ]\n",
      " ...\n",
      " [ 11.61079      7.793568     3.187644   ...   4.882099    10.199098\n",
      "    0.32903087]\n",
      " [ 11.603576     7.734054     2.98139    ...   4.900351    10.289661\n",
      "    0.4807095 ]\n",
      " [ -9.661829     6.637289     1.0354881  ...   4.7001796    3.346332\n",
      "    4.9997025 ]]\n",
      "shape (105, 10)\n",
      "k_factors 5\n",
      "factor_order 1\n"
     ]
    },
    {
     "name": "stderr",
     "output_type": "stream",
     "text": [
      "/Users/goonzard/Developer/ds-202501-health-econ-mlflow/.venv/lib/python3.12/site-packages/statsmodels/base/model.py:607: ConvergenceWarning: Maximum Likelihood optimization failed to converge. Check mle_retvals\n",
      "  warnings.warn(\"Maximum Likelihood optimization failed to \"\n",
      "Fitting Dynamic Factor Models:  14%|█▎        | 33/241 [00:34<03:21,  1.03it/s]"
     ]
    },
    {
     "name": "stdout",
     "output_type": "stream",
     "text": [
      "2025-10-12 20:41:29 | INFO     | pipeline.DynamicFactorModel | Fitting Dynamic Factor Model for substance clopidogrel from 2021-01-01 00:00:00 to 2023-01-01 00:00:00\n",
      "2025-10-12 20:41:29 | INFO     | pipeline.DynamicFactorModel | Testing Dynamic Factor Model for substance clopidogrel from 2023-01-01 00:00:00 to 2023-01-29 00:00:00\n"
     ]
    },
    {
     "name": "stderr",
     "output_type": "stream",
     "text": [
      "/Users/goonzard/Developer/ds-202501-health-econ-mlflow/.venv/lib/python3.12/site-packages/umap/umap_.py:1952: UserWarning: n_jobs value 1 overridden to 1 by setting random_state. Use no seed for parallelism.\n",
      "  warn(\n"
     ]
    },
    {
     "name": "stdout",
     "output_type": "stream",
     "text": [
      "Fitting Dynamic Factor Model - startx\n",
      "[[  4.8512793   7.0630064   1.7446408 ...  -5.151909    9.245467\n",
      "    2.2362063]\n",
      " [  4.8906493   7.204538    1.8600373 ...  -5.245295    9.316573\n",
      "    2.313291 ]\n",
      " [  4.8631425   7.3198314   1.6558211 ...  -5.202536    9.388431\n",
      "    2.3653479]\n",
      " ...\n",
      " [ 20.9725      5.388582    2.873607  ... -12.294766   10.16772\n",
      "    0.6043149]\n",
      " [ 20.929419    5.2469707   2.982021  ... -12.342693   10.176419\n",
      "    0.4542227]\n",
      " [  4.709393    7.1007953   1.6034175 ...  -5.1263027   9.038012\n",
      "    2.03057  ]]\n",
      "shape (105, 10)\n",
      "k_factors 5\n",
      "factor_order 1\n"
     ]
    },
    {
     "name": "stderr",
     "output_type": "stream",
     "text": [
      "/Users/goonzard/Developer/ds-202501-health-econ-mlflow/.venv/lib/python3.12/site-packages/statsmodels/base/model.py:607: ConvergenceWarning: Maximum Likelihood optimization failed to converge. Check mle_retvals\n",
      "  warnings.warn(\"Maximum Likelihood optimization failed to \"\n",
      "Fitting Dynamic Factor Models:  14%|█▍        | 34/241 [00:35<03:18,  1.05it/s]"
     ]
    },
    {
     "name": "stdout",
     "output_type": "stream",
     "text": [
      "2025-10-12 20:41:30 | INFO     | pipeline.DynamicFactorModel | Fitting Dynamic Factor Model for substance digoxin from 2021-01-01 00:00:00 to 2023-01-01 00:00:00\n",
      "2025-10-12 20:41:30 | INFO     | pipeline.DynamicFactorModel | Testing Dynamic Factor Model for substance digoxin from 2023-01-01 00:00:00 to 2023-01-29 00:00:00\n"
     ]
    },
    {
     "name": "stderr",
     "output_type": "stream",
     "text": [
      "/Users/goonzard/Developer/ds-202501-health-econ-mlflow/.venv/lib/python3.12/site-packages/umap/umap_.py:1952: UserWarning: n_jobs value 1 overridden to 1 by setting random_state. Use no seed for parallelism.\n",
      "  warn(\n"
     ]
    },
    {
     "name": "stdout",
     "output_type": "stream",
     "text": [
      "Fitting Dynamic Factor Model - startx\n",
      "[[11.738974  -5.7253265  6.6623344 ... 12.056595   6.020884   6.830237 ]\n",
      " [11.802677  -5.6909194  6.646659  ... 11.975551   6.1134105  6.752247 ]\n",
      " [11.720933  -5.682324   6.9463754 ... 11.885818   6.029113   6.9487166]\n",
      " ...\n",
      " [-1.0006658 19.128044  -2.8557246 ...  5.1231217  6.0144377  4.4071836]\n",
      " [-0.8791468 19.513468  -3.6380298 ...  5.399669   5.864159   3.9858496]\n",
      " [-1.2250092 19.372517  -3.1195886 ...  4.6267643  5.990519   3.9850595]]\n",
      "shape (105, 10)\n",
      "k_factors 5\n",
      "factor_order 1\n"
     ]
    },
    {
     "name": "stderr",
     "output_type": "stream",
     "text": [
      "/Users/goonzard/Developer/ds-202501-health-econ-mlflow/.venv/lib/python3.12/site-packages/statsmodels/base/model.py:607: ConvergenceWarning: Maximum Likelihood optimization failed to converge. Check mle_retvals\n",
      "  warnings.warn(\"Maximum Likelihood optimization failed to \"\n",
      "Fitting Dynamic Factor Models:  15%|█▍        | 35/241 [00:36<03:17,  1.04it/s]"
     ]
    },
    {
     "name": "stdout",
     "output_type": "stream",
     "text": [
      "2025-10-12 20:41:31 | INFO     | pipeline.DynamicFactorModel | Fitting Dynamic Factor Model for substance diltiazem from 2021-01-01 00:00:00 to 2023-01-01 00:00:00\n",
      "2025-10-12 20:41:31 | INFO     | pipeline.DynamicFactorModel | Testing Dynamic Factor Model for substance diltiazem from 2023-01-01 00:00:00 to 2023-01-29 00:00:00\n"
     ]
    },
    {
     "name": "stderr",
     "output_type": "stream",
     "text": [
      "/Users/goonzard/Developer/ds-202501-health-econ-mlflow/.venv/lib/python3.12/site-packages/umap/umap_.py:1952: UserWarning: n_jobs value 1 overridden to 1 by setting random_state. Use no seed for parallelism.\n",
      "  warn(\n"
     ]
    },
    {
     "name": "stdout",
     "output_type": "stream",
     "text": [
      "Fitting Dynamic Factor Model - startx\n",
      "[[11.600196   7.107957   1.5846434 ...  6.1831284  9.601774   8.99991  ]\n",
      " [11.5525055  6.9443493  1.5715952 ...  6.1135674  9.635278   8.951881 ]\n",
      " [11.642754   6.9592967  1.3952142 ...  5.986031   9.619654   9.0276165]\n",
      " ...\n",
      " [-4.6111383 16.501371   6.7932467 ...  2.602557   2.8516743 19.78733  ]\n",
      " [-4.428971  16.517534   6.937649  ...  2.7470326  3.2000432 19.454908 ]\n",
      " [ 4.763537   2.5447133 -7.4813557 ...  0.5900271 -4.2879176  1.5402542]]\n",
      "shape (105, 10)\n",
      "k_factors 5\n",
      "factor_order 1\n"
     ]
    },
    {
     "name": "stderr",
     "output_type": "stream",
     "text": [
      "/Users/goonzard/Developer/ds-202501-health-econ-mlflow/.venv/lib/python3.12/site-packages/statsmodels/base/model.py:607: ConvergenceWarning: Maximum Likelihood optimization failed to converge. Check mle_retvals\n",
      "  warnings.warn(\"Maximum Likelihood optimization failed to \"\n",
      "Fitting Dynamic Factor Models:  15%|█▍        | 36/241 [00:37<03:20,  1.02it/s]"
     ]
    },
    {
     "name": "stdout",
     "output_type": "stream",
     "text": [
      "2025-10-12 20:41:32 | INFO     | pipeline.DynamicFactorModel | Fitting Dynamic Factor Model for substance diosmectite from 2021-01-01 00:00:00 to 2023-01-01 00:00:00\n",
      "2025-10-12 20:41:32 | INFO     | pipeline.DynamicFactorModel | Testing Dynamic Factor Model for substance diosmectite from 2023-01-01 00:00:00 to 2023-01-29 00:00:00\n"
     ]
    },
    {
     "name": "stderr",
     "output_type": "stream",
     "text": [
      "/Users/goonzard/Developer/ds-202501-health-econ-mlflow/.venv/lib/python3.12/site-packages/umap/umap_.py:1952: UserWarning: n_jobs value 1 overridden to 1 by setting random_state. Use no seed for parallelism.\n",
      "  warn(\n"
     ]
    },
    {
     "name": "stdout",
     "output_type": "stream",
     "text": [
      "Fitting Dynamic Factor Model - startx\n",
      "[[ 14.466484   13.895125    7.0545754 ... -14.682263    9.528668\n",
      "    1.037437 ]\n",
      " [ 14.247078   13.918267    7.250167  ... -14.569866    9.560603\n",
      "    1.2555616]\n",
      " [ 14.416097   14.033042    6.8708124 ... -14.5654745   9.807141\n",
      "    1.3162721]\n",
      " ...\n",
      " [-12.677432    4.7572527  13.749806  ...   7.3689566   7.670813\n",
      "    2.2987478]\n",
      " [-12.159972    4.9177113  13.650419  ...   6.8799343   8.047649\n",
      "    2.116691 ]\n",
      " [-12.33719     4.8206406  13.88264   ...   6.906864    7.802191\n",
      "    2.0458505]]\n",
      "shape (105, 10)\n",
      "k_factors 5\n",
      "factor_order 1\n"
     ]
    },
    {
     "name": "stderr",
     "output_type": "stream",
     "text": [
      "/Users/goonzard/Developer/ds-202501-health-econ-mlflow/.venv/lib/python3.12/site-packages/statsmodels/base/model.py:607: ConvergenceWarning: Maximum Likelihood optimization failed to converge. Check mle_retvals\n",
      "  warnings.warn(\"Maximum Likelihood optimization failed to \"\n",
      "Fitting Dynamic Factor Models:  15%|█▌        | 37/241 [00:38<03:19,  1.02it/s]"
     ]
    },
    {
     "name": "stdout",
     "output_type": "stream",
     "text": [
      "2025-10-12 20:41:33 | INFO     | pipeline.DynamicFactorModel | Fitting Dynamic Factor Model for substance donepezil from 2021-01-01 00:00:00 to 2023-01-01 00:00:00\n",
      "2025-10-12 20:41:33 | INFO     | pipeline.DynamicFactorModel | Testing Dynamic Factor Model for substance donepezil from 2023-01-01 00:00:00 to 2023-01-29 00:00:00\n"
     ]
    },
    {
     "name": "stderr",
     "output_type": "stream",
     "text": [
      "/Users/goonzard/Developer/ds-202501-health-econ-mlflow/.venv/lib/python3.12/site-packages/umap/umap_.py:1952: UserWarning: n_jobs value 1 overridden to 1 by setting random_state. Use no seed for parallelism.\n",
      "  warn(\n"
     ]
    },
    {
     "name": "stdout",
     "output_type": "stream",
     "text": [
      "Fitting Dynamic Factor Model - startx\n",
      "[[  6.670764  -10.779352    1.2210637 ...   8.271705    4.6033297\n",
      "   -1.213075 ]\n",
      " [  6.6186447 -10.797891    1.1196791 ...   8.454041    4.3905773\n",
      "   -1.3149972]\n",
      " [  6.7466273 -10.686403    1.1146842 ...   8.4464445   4.5489655\n",
      "   -1.1851279]\n",
      " ...\n",
      " [ 13.257357    6.3660517  18.49401   ...  -4.45473    -8.135302\n",
      "   -8.886798 ]\n",
      " [ 13.244138    6.412695   18.45282   ...  -4.575806   -8.090922\n",
      "   -8.819351 ]\n",
      " [  6.722328  -10.888635    1.1805634 ...   8.27754     4.422689\n",
      "   -1.0918976]]\n",
      "shape (105, 10)\n",
      "k_factors 5\n",
      "factor_order 1\n"
     ]
    },
    {
     "name": "stderr",
     "output_type": "stream",
     "text": [
      "/Users/goonzard/Developer/ds-202501-health-econ-mlflow/.venv/lib/python3.12/site-packages/statsmodels/base/model.py:607: ConvergenceWarning: Maximum Likelihood optimization failed to converge. Check mle_retvals\n",
      "  warnings.warn(\"Maximum Likelihood optimization failed to \"\n",
      "Fitting Dynamic Factor Models:  16%|█▌        | 38/241 [00:39<03:21,  1.01it/s]"
     ]
    },
    {
     "name": "stdout",
     "output_type": "stream",
     "text": [
      "2025-10-12 20:41:34 | INFO     | pipeline.DynamicFactorModel | Fitting Dynamic Factor Model for substance doxofylline from 2021-01-01 00:00:00 to 2023-01-01 00:00:00\n",
      "2025-10-12 20:41:34 | INFO     | pipeline.DynamicFactorModel | Testing Dynamic Factor Model for substance doxofylline from 2023-01-01 00:00:00 to 2023-01-29 00:00:00\n"
     ]
    },
    {
     "name": "stderr",
     "output_type": "stream",
     "text": [
      "/Users/goonzard/Developer/ds-202501-health-econ-mlflow/.venv/lib/python3.12/site-packages/umap/umap_.py:1952: UserWarning: n_jobs value 1 overridden to 1 by setting random_state. Use no seed for parallelism.\n",
      "  warn(\n"
     ]
    },
    {
     "name": "stdout",
     "output_type": "stream",
     "text": [
      "Fitting Dynamic Factor Model - startx\n",
      "[[ 9.380909   -0.72536606  9.630838   ... 10.202413    6.035917\n",
      "  -2.3746388 ]\n",
      " [ 9.183035   -0.69898057  9.649891   ... 10.314258    5.9218426\n",
      "  -2.3372903 ]\n",
      " [ 9.192744   -0.8101297   9.61108    ... 10.210275    6.081841\n",
      "  -2.3887653 ]\n",
      " ...\n",
      " [ 9.733882   -1.1684362   9.663753   ... 10.048648    6.747157\n",
      "  -1.8235797 ]\n",
      " [ 9.595047   -1.2292032   9.641044   ... 10.029397    6.6736927\n",
      "  -1.8633001 ]\n",
      " [-7.673172    4.198813    5.7624736  ...  1.2671678   4.1531363\n",
      "  -1.4617707 ]]\n",
      "shape (105, 10)\n",
      "k_factors 5\n",
      "factor_order 1\n"
     ]
    },
    {
     "name": "stderr",
     "output_type": "stream",
     "text": [
      "/Users/goonzard/Developer/ds-202501-health-econ-mlflow/.venv/lib/python3.12/site-packages/statsmodels/base/model.py:607: ConvergenceWarning: Maximum Likelihood optimization failed to converge. Check mle_retvals\n",
      "  warnings.warn(\"Maximum Likelihood optimization failed to \"\n",
      "Fitting Dynamic Factor Models:  16%|█▌        | 39/241 [00:40<03:20,  1.01it/s]"
     ]
    },
    {
     "name": "stdout",
     "output_type": "stream",
     "text": [
      "2025-10-12 20:41:35 | INFO     | pipeline.DynamicFactorModel | Fitting Dynamic Factor Model for substance duloxetine from 2021-01-01 00:00:00 to 2023-01-01 00:00:00\n",
      "2025-10-12 20:41:35 | INFO     | pipeline.DynamicFactorModel | Testing Dynamic Factor Model for substance duloxetine from 2023-01-01 00:00:00 to 2023-01-29 00:00:00\n"
     ]
    },
    {
     "name": "stderr",
     "output_type": "stream",
     "text": [
      "/Users/goonzard/Developer/ds-202501-health-econ-mlflow/.venv/lib/python3.12/site-packages/umap/umap_.py:1952: UserWarning: n_jobs value 1 overridden to 1 by setting random_state. Use no seed for parallelism.\n",
      "  warn(\n"
     ]
    },
    {
     "name": "stdout",
     "output_type": "stream",
     "text": [
      "Fitting Dynamic Factor Model - startx\n",
      "[[15.532081   -5.2068477  16.857433   ...  4.667671   11.081756\n",
      "   0.20332842]\n",
      " [15.4269905  -5.3573585  16.830366   ...  4.6462483  10.944786\n",
      "   0.10451909]\n",
      " [15.467737   -5.3487124  16.717657   ...  4.558937   11.016954\n",
      "   0.13702114]\n",
      " ...\n",
      " [-7.256801   -5.0356894   0.6313536  ...  8.222628   15.182564\n",
      "   7.9234767 ]\n",
      " [-7.517512   -5.1190863   0.66616344 ...  7.887447   15.108339\n",
      "   8.167594  ]\n",
      " [13.970138   -1.0854921  15.286905   ...  5.1126294  -2.2950404\n",
      "   1.2090685 ]]\n",
      "shape (105, 10)\n",
      "k_factors 5\n",
      "factor_order 1\n"
     ]
    },
    {
     "name": "stderr",
     "output_type": "stream",
     "text": [
      "/Users/goonzard/Developer/ds-202501-health-econ-mlflow/.venv/lib/python3.12/site-packages/statsmodels/base/model.py:607: ConvergenceWarning: Maximum Likelihood optimization failed to converge. Check mle_retvals\n",
      "  warnings.warn(\"Maximum Likelihood optimization failed to \"\n",
      "Fitting Dynamic Factor Models:  17%|█▋        | 40/241 [00:41<03:18,  1.01it/s]"
     ]
    },
    {
     "name": "stdout",
     "output_type": "stream",
     "text": [
      "2025-10-12 20:41:36 | INFO     | pipeline.DynamicFactorModel | Fitting Dynamic Factor Model for substance electrolytes with carbohydrates from 2021-01-01 00:00:00 to 2023-01-01 00:00:00\n",
      "2025-10-12 20:41:36 | INFO     | pipeline.DynamicFactorModel | Testing Dynamic Factor Model for substance electrolytes with carbohydrates from 2023-01-01 00:00:00 to 2023-01-29 00:00:00\n"
     ]
    },
    {
     "name": "stderr",
     "output_type": "stream",
     "text": [
      "/Users/goonzard/Developer/ds-202501-health-econ-mlflow/.venv/lib/python3.12/site-packages/umap/umap_.py:1952: UserWarning: n_jobs value 1 overridden to 1 by setting random_state. Use no seed for parallelism.\n",
      "  warn(\n"
     ]
    },
    {
     "name": "stdout",
     "output_type": "stream",
     "text": [
      "Fitting Dynamic Factor Model - startx\n",
      "[[ 2.7957056 15.513858  10.4189    ...  6.8937616  8.093518   7.6420736]\n",
      " [ 2.7075484 15.70642   10.438348  ...  6.900983   8.108278   7.8303185]\n",
      " [ 2.8886456 15.367183  10.542712  ...  7.1260986  8.340498   7.8657165]\n",
      " ...\n",
      " [ 4.0294375 12.834857  10.522226  ...  7.3248296  7.866294   6.676364 ]\n",
      " [ 4.085311  12.853836  10.81447   ...  7.3398676  7.8895087  6.8804736]\n",
      " [ 3.0838242 14.992293  10.45959   ...  6.704158   8.216076   7.481027 ]]\n",
      "shape (105, 10)\n",
      "k_factors 5\n",
      "factor_order 1\n"
     ]
    },
    {
     "name": "stderr",
     "output_type": "stream",
     "text": [
      "/Users/goonzard/Developer/ds-202501-health-econ-mlflow/.venv/lib/python3.12/site-packages/statsmodels/base/model.py:607: ConvergenceWarning: Maximum Likelihood optimization failed to converge. Check mle_retvals\n",
      "  warnings.warn(\"Maximum Likelihood optimization failed to \"\n",
      "Fitting Dynamic Factor Models:  17%|█▋        | 41/241 [00:42<03:16,  1.02it/s]"
     ]
    },
    {
     "name": "stdout",
     "output_type": "stream",
     "text": [
      "2025-10-12 20:41:37 | INFO     | pipeline.DynamicFactorModel | Fitting Dynamic Factor Model for substance eperisone from 2021-01-01 00:00:00 to 2023-01-01 00:00:00\n",
      "2025-10-12 20:41:37 | INFO     | pipeline.DynamicFactorModel | Testing Dynamic Factor Model for substance eperisone from 2023-01-01 00:00:00 to 2023-01-29 00:00:00\n"
     ]
    },
    {
     "name": "stderr",
     "output_type": "stream",
     "text": [
      "/Users/goonzard/Developer/ds-202501-health-econ-mlflow/.venv/lib/python3.12/site-packages/umap/umap_.py:1952: UserWarning: n_jobs value 1 overridden to 1 by setting random_state. Use no seed for parallelism.\n",
      "  warn(\n"
     ]
    },
    {
     "name": "stdout",
     "output_type": "stream",
     "text": [
      "Fitting Dynamic Factor Model - startx\n",
      "[[-3.0878663  11.447517    3.7258005  ... -0.2915015  -1.649069\n",
      "  -0.07188114]\n",
      " [-3.0899296  11.427779    3.7156203  ... -0.4926356  -1.6383576\n",
      "  -0.08554269]\n",
      " [-3.102852   11.322054    3.7711132  ... -0.40436462 -1.7311344\n",
      "  -0.12526932]\n",
      " ...\n",
      " [ 9.148284    0.7421445   5.742661   ...  3.6081843   3.7263956\n",
      "   6.231522  ]\n",
      " [ 9.077788    0.64492756  5.6954136  ...  3.4907353   3.6281517\n",
      "   6.2737727 ]\n",
      " [ 9.231882    0.32523263  5.768766   ...  2.9601915   3.9548302\n",
      "   5.5402336 ]]\n",
      "shape (105, 10)\n",
      "k_factors 5\n",
      "factor_order 1\n"
     ]
    },
    {
     "name": "stderr",
     "output_type": "stream",
     "text": [
      "/Users/goonzard/Developer/ds-202501-health-econ-mlflow/.venv/lib/python3.12/site-packages/statsmodels/base/model.py:607: ConvergenceWarning: Maximum Likelihood optimization failed to converge. Check mle_retvals\n",
      "  warnings.warn(\"Maximum Likelihood optimization failed to \"\n",
      "Fitting Dynamic Factor Models:  17%|█▋        | 42/241 [00:43<03:12,  1.03it/s]"
     ]
    },
    {
     "name": "stdout",
     "output_type": "stream",
     "text": [
      "2025-10-12 20:41:37 | INFO     | pipeline.DynamicFactorModel | Fitting Dynamic Factor Model for substance escitalopram from 2021-01-01 00:00:00 to 2023-01-01 00:00:00\n",
      "2025-10-12 20:41:37 | INFO     | pipeline.DynamicFactorModel | Testing Dynamic Factor Model for substance escitalopram from 2023-01-01 00:00:00 to 2023-01-29 00:00:00\n"
     ]
    },
    {
     "name": "stderr",
     "output_type": "stream",
     "text": [
      "/Users/goonzard/Developer/ds-202501-health-econ-mlflow/.venv/lib/python3.12/site-packages/umap/umap_.py:1952: UserWarning: n_jobs value 1 overridden to 1 by setting random_state. Use no seed for parallelism.\n",
      "  warn(\n"
     ]
    },
    {
     "name": "stdout",
     "output_type": "stream",
     "text": [
      "Fitting Dynamic Factor Model - startx\n",
      "[[ 3.5311534 27.853815   8.473314  ... 12.789347   4.837232  16.32405  ]\n",
      " [ 3.3345532 27.860764   8.613634  ... 12.857931   4.5898366 16.32771  ]\n",
      " [ 3.4447985 27.770325   8.73728   ... 12.869675   4.6206946 16.349478 ]\n",
      " ...\n",
      " [ 6.9060507 29.693613   9.106482  ...  8.130316  16.04897   21.283747 ]\n",
      " [ 7.053105  29.606207   9.211675  ...  8.125531  16.306547  21.319094 ]\n",
      " [ 4.1796923 28.208088   7.7285414 ... 12.531253   5.9742785 16.413855 ]]\n",
      "shape (105, 10)\n",
      "k_factors 5\n",
      "factor_order 1\n"
     ]
    },
    {
     "name": "stderr",
     "output_type": "stream",
     "text": [
      "/Users/goonzard/Developer/ds-202501-health-econ-mlflow/.venv/lib/python3.12/site-packages/statsmodels/base/model.py:607: ConvergenceWarning: Maximum Likelihood optimization failed to converge. Check mle_retvals\n",
      "  warnings.warn(\"Maximum Likelihood optimization failed to \"\n",
      "Fitting Dynamic Factor Models:  18%|█▊        | 43/241 [00:44<03:11,  1.04it/s]"
     ]
    },
    {
     "name": "stdout",
     "output_type": "stream",
     "text": [
      "2025-10-12 20:41:38 | INFO     | pipeline.DynamicFactorModel | Fitting Dynamic Factor Model for substance famotidine from 2021-01-01 00:00:00 to 2023-01-01 00:00:00\n",
      "2025-10-12 20:41:38 | INFO     | pipeline.DynamicFactorModel | Testing Dynamic Factor Model for substance famotidine from 2023-01-01 00:00:00 to 2023-01-29 00:00:00\n"
     ]
    },
    {
     "name": "stderr",
     "output_type": "stream",
     "text": [
      "/Users/goonzard/Developer/ds-202501-health-econ-mlflow/.venv/lib/python3.12/site-packages/umap/umap_.py:1952: UserWarning: n_jobs value 1 overridden to 1 by setting random_state. Use no seed for parallelism.\n",
      "  warn(\n"
     ]
    },
    {
     "name": "stdout",
     "output_type": "stream",
     "text": [
      "Fitting Dynamic Factor Model - startx\n",
      "[[-17.349869    -0.9083103   10.975748   ...   3.1167073    3.9809835\n",
      "    6.212879  ]\n",
      " [-17.294636    -0.91811776  11.043229   ...   3.1776018    4.0465364\n",
      "    6.265774  ]\n",
      " [-17.616959    -1.0339873   10.7632065  ...   2.9705412    3.9974046\n",
      "    6.230933  ]\n",
      " ...\n",
      " [-11.517849     0.9290774   15.324177   ...  12.427812     8.756157\n",
      "   17.515097  ]\n",
      " [-11.712077     1.0972846   14.972408   ...  12.199347     8.783043\n",
      "   17.642609  ]\n",
      " [-12.809968     1.3142955   14.951978   ...  11.502468     9.247616\n",
      "   15.380294  ]]\n",
      "shape (105, 10)\n",
      "k_factors 5\n",
      "factor_order 1\n"
     ]
    },
    {
     "name": "stderr",
     "output_type": "stream",
     "text": [
      "Fitting Dynamic Factor Models:  18%|█▊        | 43/241 [00:45<03:29,  1.06s/it]\n"
     ]
    },
    {
     "ename": "KeyboardInterrupt",
     "evalue": "",
     "output_type": "error",
     "traceback": [
      "\u001b[31m---------------------------------------------------------------------------\u001b[39m",
      "\u001b[31mKeyboardInterrupt\u001b[39m                         Traceback (most recent call last)",
      "\u001b[36mCell\u001b[39m\u001b[36m \u001b[39m\u001b[32mIn[1]\u001b[39m\u001b[32m, line 49\u001b[39m\n\u001b[32m     33\u001b[39m model_config = DFMConfig(\n\u001b[32m     34\u001b[39m     freq=\u001b[33m\"\u001b[39m\u001b[33mW\u001b[39m\u001b[33m\"\u001b[39m,  \u001b[38;5;66;03m# Weekly prediction\u001b[39;00m\n\u001b[32m     35\u001b[39m     k_factors=\u001b[32m5\u001b[39m,  \u001b[38;5;66;03m# Latent factors\u001b[39;00m\n\u001b[32m   (...)\u001b[39m\u001b[32m     39\u001b[39m     reduce_to=\u001b[32m10\u001b[39m\n\u001b[32m     40\u001b[39m )\n\u001b[32m     41\u001b[39m pipe = MLPipeline(\n\u001b[32m     42\u001b[39m     profile=hosp,\n\u001b[32m     43\u001b[39m     original=origin,\n\u001b[32m   (...)\u001b[39m\u001b[32m     47\u001b[39m     evaluator=\u001b[38;5;28;01mNone\u001b[39;00m,\n\u001b[32m     48\u001b[39m )\n\u001b[32m---> \u001b[39m\u001b[32m49\u001b[39m f = \u001b[43mpipe\u001b[49m\u001b[43m.\u001b[49m\u001b[43mrun\u001b[49m\u001b[43m(\u001b[49m\u001b[33;43m\"\u001b[39;49m\u001b[33;43mt1\u001b[39;49m\u001b[33;43m\"\u001b[39;49m\u001b[43m)\u001b[49m\n",
      "\u001b[36mFile \u001b[39m\u001b[32m~/Developer/ds-202501-health-econ-mlflow/pipeline/base_manager.py:69\u001b[39m, in \u001b[36mMLPipeline.run\u001b[39m\u001b[34m(self, run_name)\u001b[39m\n\u001b[32m     66\u001b[39m     \u001b[38;5;28mprint\u001b[39m(\u001b[33m\"\u001b[39m\u001b[33m[Warning] data transformer not set\u001b[39m\u001b[33m\"\u001b[39m)\n\u001b[32m     68\u001b[39m \u001b[38;5;28;01mif\u001b[39;00m \u001b[38;5;28mself\u001b[39m.model \u001b[38;5;129;01mis\u001b[39;00m \u001b[38;5;129;01mnot\u001b[39;00m \u001b[38;5;28;01mNone\u001b[39;00m:\n\u001b[32m---> \u001b[39m\u001b[32m69\u001b[39m     models = \u001b[38;5;28;43mself\u001b[39;49m\u001b[43m.\u001b[49m\u001b[43mmodel\u001b[49m\u001b[43m.\u001b[49m\u001b[43mfit\u001b[49m\u001b[43m(\u001b[49m\u001b[43mm\u001b[49m\u001b[43m)\u001b[49m\n\u001b[32m     70\u001b[39m \u001b[38;5;28;01melse\u001b[39;00m:\n\u001b[32m     71\u001b[39m     \u001b[38;5;28mprint\u001b[39m(\u001b[33m\"\u001b[39m\u001b[33m[Warning] model not set\u001b[39m\u001b[33m\"\u001b[39m)\n",
      "\u001b[36mFile \u001b[39m\u001b[32m~/Developer/ds-202501-health-econ-mlflow/pipeline/dfm_pipeline.py:165\u001b[39m, in \u001b[36mDynamicFactorModel.fit\u001b[39m\u001b[34m(self, df, group_by_col, patient_count_col, patient_threshold)\u001b[39m\n\u001b[32m    162\u001b[39m     \u001b[38;5;28mself\u001b[39m.logger.warning(\u001b[33mf\u001b[39m\u001b[33m\"\u001b[39m\u001b[38;5;132;01m{\u001b[39;00msid\u001b[38;5;132;01m}\u001b[39;00m\u001b[33m: no data to test — skipped for \u001b[39m\u001b[38;5;132;01m{\u001b[39;00mtest_dts[\u001b[32m0\u001b[39m]\u001b[38;5;132;01m}\u001b[39;00m\u001b[33m to \u001b[39m\u001b[38;5;132;01m{\u001b[39;00mtest_dts[\u001b[32m1\u001b[39m]\u001b[38;5;132;01m}\u001b[39;00m\u001b[33m\"\u001b[39m)\n\u001b[32m    163\u001b[39m     \u001b[38;5;28;01mcontinue\u001b[39;00m\n\u001b[32m--> \u001b[39m\u001b[32m165\u001b[39m scaler, reducer, model, res = \u001b[38;5;28;43mself\u001b[39;49m\u001b[43m.\u001b[49m\u001b[43mfit_one\u001b[49m\u001b[43m(\u001b[49m\u001b[43msub_train\u001b[49m\u001b[43m)\u001b[49m\n\u001b[32m    166\u001b[39m forecast_res = res.get_forecast(\n\u001b[32m    167\u001b[39m     steps=\u001b[38;5;28mself\u001b[39m.config.forecast_steps, \n\u001b[32m    168\u001b[39m     exog=reducer.transform(scaler.transform(sub_test))\n\u001b[32m    169\u001b[39m )\n\u001b[32m    170\u001b[39m prediction = forecast_res.predicted_mean\n",
      "\u001b[36mFile \u001b[39m\u001b[32m~/Developer/ds-202501-health-econ-mlflow/pipeline/dfm_pipeline.py:89\u001b[39m, in \u001b[36mDynamicFactorModel.fit_one\u001b[39m\u001b[34m(self, df)\u001b[39m\n\u001b[32m     81\u001b[39m \u001b[38;5;28mprint\u001b[39m(\u001b[33m\"\u001b[39m\u001b[33mfactor_order\u001b[39m\u001b[33m\"\u001b[39m, \u001b[38;5;28mself\u001b[39m.config.factor_order)\n\u001b[32m     83\u001b[39m model = sm.tsa.DynamicFactor(\n\u001b[32m     84\u001b[39m     endog=rdf,\n\u001b[32m     85\u001b[39m     k_factors=\u001b[38;5;28mself\u001b[39m.config.k_factors,\n\u001b[32m     86\u001b[39m     factor_order=\u001b[38;5;28mself\u001b[39m.config.factor_order,\n\u001b[32m     87\u001b[39m     error_cov_type=\u001b[38;5;28mself\u001b[39m.config.error_cov_type,\n\u001b[32m     88\u001b[39m )\n\u001b[32m---> \u001b[39m\u001b[32m89\u001b[39m res = \u001b[43mmodel\u001b[49m\u001b[43m.\u001b[49m\u001b[43mfit\u001b[49m\u001b[43m(\u001b[49m\u001b[43m)\u001b[49m\n\u001b[32m     91\u001b[39m \u001b[38;5;28;01mreturn\u001b[39;00m scaler, reducer, model, res\n",
      "\u001b[36mFile \u001b[39m\u001b[32m~/Developer/ds-202501-health-econ-mlflow/.venv/lib/python3.12/site-packages/statsmodels/tsa/statespace/mlemodel.py:705\u001b[39m, in \u001b[36mMLEModel.fit\u001b[39m\u001b[34m(self, start_params, transformed, includes_fixed, cov_type, cov_kwds, method, maxiter, full_output, disp, callback, return_params, optim_score, optim_complex_step, optim_hessian, flags, low_memory, **kwargs)\u001b[39m\n\u001b[32m    703\u001b[39m         flags[\u001b[33m'\u001b[39m\u001b[33mhessian_method\u001b[39m\u001b[33m'\u001b[39m] = optim_hessian\n\u001b[32m    704\u001b[39m     fargs = (flags,)\n\u001b[32m--> \u001b[39m\u001b[32m705\u001b[39m     mlefit = \u001b[38;5;28;43msuper\u001b[39;49m\u001b[43m(\u001b[49m\u001b[43m)\u001b[49m\u001b[43m.\u001b[49m\u001b[43mfit\u001b[49m\u001b[43m(\u001b[49m\u001b[43mstart_params\u001b[49m\u001b[43m,\u001b[49m\u001b[43m \u001b[49m\u001b[43mmethod\u001b[49m\u001b[43m=\u001b[49m\u001b[43mmethod\u001b[49m\u001b[43m,\u001b[49m\n\u001b[32m    706\u001b[39m \u001b[43m                         \u001b[49m\u001b[43mfargs\u001b[49m\u001b[43m=\u001b[49m\u001b[43mfargs\u001b[49m\u001b[43m,\u001b[49m\n\u001b[32m    707\u001b[39m \u001b[43m                         \u001b[49m\u001b[43mmaxiter\u001b[49m\u001b[43m=\u001b[49m\u001b[43mmaxiter\u001b[49m\u001b[43m,\u001b[49m\n\u001b[32m    708\u001b[39m \u001b[43m                         \u001b[49m\u001b[43mfull_output\u001b[49m\u001b[43m=\u001b[49m\u001b[43mfull_output\u001b[49m\u001b[43m,\u001b[49m\n\u001b[32m    709\u001b[39m \u001b[43m                         \u001b[49m\u001b[43mdisp\u001b[49m\u001b[43m=\u001b[49m\u001b[43mdisp\u001b[49m\u001b[43m,\u001b[49m\u001b[43m \u001b[49m\u001b[43mcallback\u001b[49m\u001b[43m=\u001b[49m\u001b[43mcallback\u001b[49m\u001b[43m,\u001b[49m\n\u001b[32m    710\u001b[39m \u001b[43m                         \u001b[49m\u001b[43mskip_hessian\u001b[49m\u001b[43m=\u001b[49m\u001b[38;5;28;43;01mTrue\u001b[39;49;00m\u001b[43m,\u001b[49m\u001b[43m \u001b[49m\u001b[43m*\u001b[49m\u001b[43m*\u001b[49m\u001b[43mkwargs\u001b[49m\u001b[43m)\u001b[49m\n\u001b[32m    712\u001b[39m \u001b[38;5;66;03m# Just return the fitted parameters if requested\u001b[39;00m\n\u001b[32m    713\u001b[39m \u001b[38;5;28;01mif\u001b[39;00m return_params:\n",
      "\u001b[36mFile \u001b[39m\u001b[32m~/Developer/ds-202501-health-econ-mlflow/.venv/lib/python3.12/site-packages/statsmodels/base/model.py:566\u001b[39m, in \u001b[36mLikelihoodModel.fit\u001b[39m\u001b[34m(self, start_params, method, maxiter, full_output, disp, fargs, callback, retall, skip_hessian, **kwargs)\u001b[39m\n\u001b[32m    563\u001b[39m     \u001b[38;5;28;01mdel\u001b[39;00m kwargs[\u001b[33m\"\u001b[39m\u001b[33muse_t\u001b[39m\u001b[33m\"\u001b[39m]\n\u001b[32m    565\u001b[39m optimizer = Optimizer()\n\u001b[32m--> \u001b[39m\u001b[32m566\u001b[39m xopt, retvals, optim_settings = \u001b[43moptimizer\u001b[49m\u001b[43m.\u001b[49m\u001b[43m_fit\u001b[49m\u001b[43m(\u001b[49m\u001b[43mf\u001b[49m\u001b[43m,\u001b[49m\u001b[43m \u001b[49m\u001b[43mscore\u001b[49m\u001b[43m,\u001b[49m\u001b[43m \u001b[49m\u001b[43mstart_params\u001b[49m\u001b[43m,\u001b[49m\n\u001b[32m    567\u001b[39m \u001b[43m                                               \u001b[49m\u001b[43mfargs\u001b[49m\u001b[43m,\u001b[49m\u001b[43m \u001b[49m\u001b[43mkwargs\u001b[49m\u001b[43m,\u001b[49m\n\u001b[32m    568\u001b[39m \u001b[43m                                               \u001b[49m\u001b[43mhessian\u001b[49m\u001b[43m=\u001b[49m\u001b[43mhess\u001b[49m\u001b[43m,\u001b[49m\n\u001b[32m    569\u001b[39m \u001b[43m                                               \u001b[49m\u001b[43mmethod\u001b[49m\u001b[43m=\u001b[49m\u001b[43mmethod\u001b[49m\u001b[43m,\u001b[49m\n\u001b[32m    570\u001b[39m \u001b[43m                                               \u001b[49m\u001b[43mdisp\u001b[49m\u001b[43m=\u001b[49m\u001b[43mdisp\u001b[49m\u001b[43m,\u001b[49m\n\u001b[32m    571\u001b[39m \u001b[43m                                               \u001b[49m\u001b[43mmaxiter\u001b[49m\u001b[43m=\u001b[49m\u001b[43mmaxiter\u001b[49m\u001b[43m,\u001b[49m\n\u001b[32m    572\u001b[39m \u001b[43m                                               \u001b[49m\u001b[43mcallback\u001b[49m\u001b[43m=\u001b[49m\u001b[43mcallback\u001b[49m\u001b[43m,\u001b[49m\n\u001b[32m    573\u001b[39m \u001b[43m                                               \u001b[49m\u001b[43mretall\u001b[49m\u001b[43m=\u001b[49m\u001b[43mretall\u001b[49m\u001b[43m,\u001b[49m\n\u001b[32m    574\u001b[39m \u001b[43m                                               \u001b[49m\u001b[43mfull_output\u001b[49m\u001b[43m=\u001b[49m\u001b[43mfull_output\u001b[49m\u001b[43m)\u001b[49m\n\u001b[32m    575\u001b[39m \u001b[38;5;66;03m# Restore cov_type, cov_kwds and use_t\u001b[39;00m\n\u001b[32m    576\u001b[39m optim_settings.update(kwds)\n",
      "\u001b[36mFile \u001b[39m\u001b[32m~/Developer/ds-202501-health-econ-mlflow/.venv/lib/python3.12/site-packages/statsmodels/base/optimizer.py:245\u001b[39m, in \u001b[36mOptimizer._fit\u001b[39m\u001b[34m(self, objective, gradient, start_params, fargs, kwargs, hessian, method, maxiter, full_output, disp, callback, retall)\u001b[39m\n\u001b[32m    242\u001b[39m     fit_funcs.update(extra_fit_funcs)\n\u001b[32m    244\u001b[39m func = fit_funcs[method]\n\u001b[32m--> \u001b[39m\u001b[32m245\u001b[39m xopt, retvals = \u001b[43mfunc\u001b[49m\u001b[43m(\u001b[49m\u001b[43mobjective\u001b[49m\u001b[43m,\u001b[49m\u001b[43m \u001b[49m\u001b[43mgradient\u001b[49m\u001b[43m,\u001b[49m\u001b[43m \u001b[49m\u001b[43mstart_params\u001b[49m\u001b[43m,\u001b[49m\u001b[43m \u001b[49m\u001b[43mfargs\u001b[49m\u001b[43m,\u001b[49m\u001b[43m \u001b[49m\u001b[43mkwargs\u001b[49m\u001b[43m,\u001b[49m\n\u001b[32m    246\u001b[39m \u001b[43m                     \u001b[49m\u001b[43mdisp\u001b[49m\u001b[43m=\u001b[49m\u001b[43mdisp\u001b[49m\u001b[43m,\u001b[49m\u001b[43m \u001b[49m\u001b[43mmaxiter\u001b[49m\u001b[43m=\u001b[49m\u001b[43mmaxiter\u001b[49m\u001b[43m,\u001b[49m\u001b[43m \u001b[49m\u001b[43mcallback\u001b[49m\u001b[43m=\u001b[49m\u001b[43mcallback\u001b[49m\u001b[43m,\u001b[49m\n\u001b[32m    247\u001b[39m \u001b[43m                     \u001b[49m\u001b[43mretall\u001b[49m\u001b[43m=\u001b[49m\u001b[43mretall\u001b[49m\u001b[43m,\u001b[49m\u001b[43m \u001b[49m\u001b[43mfull_output\u001b[49m\u001b[43m=\u001b[49m\u001b[43mfull_output\u001b[49m\u001b[43m,\u001b[49m\n\u001b[32m    248\u001b[39m \u001b[43m                     \u001b[49m\u001b[43mhess\u001b[49m\u001b[43m=\u001b[49m\u001b[43mhessian\u001b[49m\u001b[43m)\u001b[49m\n\u001b[32m    250\u001b[39m optim_settings = {\u001b[33m'\u001b[39m\u001b[33moptimizer\u001b[39m\u001b[33m'\u001b[39m: method, \u001b[33m'\u001b[39m\u001b[33mstart_params\u001b[39m\u001b[33m'\u001b[39m: start_params,\n\u001b[32m    251\u001b[39m                   \u001b[33m'\u001b[39m\u001b[33mmaxiter\u001b[39m\u001b[33m'\u001b[39m: maxiter, \u001b[33m'\u001b[39m\u001b[33mfull_output\u001b[39m\u001b[33m'\u001b[39m: full_output,\n\u001b[32m    252\u001b[39m                   \u001b[33m'\u001b[39m\u001b[33mdisp\u001b[39m\u001b[33m'\u001b[39m: disp, \u001b[33m'\u001b[39m\u001b[33mfargs\u001b[39m\u001b[33m'\u001b[39m: fargs, \u001b[33m'\u001b[39m\u001b[33mcallback\u001b[39m\u001b[33m'\u001b[39m: callback,\n\u001b[32m    253\u001b[39m                   \u001b[33m'\u001b[39m\u001b[33mretall\u001b[39m\u001b[33m'\u001b[39m: retall, \u001b[33m\"\u001b[39m\u001b[33mextra_fit_funcs\u001b[39m\u001b[33m\"\u001b[39m: extra_fit_funcs}\n\u001b[32m    254\u001b[39m optim_settings.update(kwargs)\n",
      "\u001b[36mFile \u001b[39m\u001b[32m~/Developer/ds-202501-health-econ-mlflow/.venv/lib/python3.12/site-packages/statsmodels/base/optimizer.py:665\u001b[39m, in \u001b[36m_fit_lbfgs\u001b[39m\u001b[34m(f, score, start_params, fargs, kwargs, disp, maxiter, callback, retall, full_output, hess)\u001b[39m\n\u001b[32m    663\u001b[39m \u001b[38;5;28;01mif\u001b[39;00m SP_LT_116:\n\u001b[32m    664\u001b[39m     extended_kwargs[\u001b[33m\"\u001b[39m\u001b[33mdisp\u001b[39m\u001b[33m\"\u001b[39m]=disp\n\u001b[32m--> \u001b[39m\u001b[32m665\u001b[39m retvals = \u001b[43moptimize\u001b[49m\u001b[43m.\u001b[49m\u001b[43mfmin_l_bfgs_b\u001b[49m\u001b[43m(\u001b[49m\n\u001b[32m    666\u001b[39m \u001b[43m    \u001b[49m\u001b[43mfunc\u001b[49m\u001b[43m,\u001b[49m\n\u001b[32m    667\u001b[39m \u001b[43m    \u001b[49m\u001b[43mstart_params\u001b[49m\u001b[43m,\u001b[49m\n\u001b[32m    668\u001b[39m \u001b[43m    \u001b[49m\u001b[43mmaxiter\u001b[49m\u001b[43m=\u001b[49m\u001b[43mmaxiter\u001b[49m\u001b[43m,\u001b[49m\n\u001b[32m    669\u001b[39m \u001b[43m    \u001b[49m\u001b[43mcallback\u001b[49m\u001b[43m=\u001b[49m\u001b[43mcallback\u001b[49m\u001b[43m,\u001b[49m\n\u001b[32m    670\u001b[39m \u001b[43m    \u001b[49m\u001b[43margs\u001b[49m\u001b[43m=\u001b[49m\u001b[43mfargs\u001b[49m\u001b[43m,\u001b[49m\n\u001b[32m    671\u001b[39m \u001b[43m    \u001b[49m\u001b[43mbounds\u001b[49m\u001b[43m=\u001b[49m\u001b[43mbounds\u001b[49m\u001b[43m,\u001b[49m\n\u001b[32m    672\u001b[39m \u001b[43m    \u001b[49m\u001b[43m*\u001b[49m\u001b[43m*\u001b[49m\u001b[43mextended_kwargs\u001b[49m\n\u001b[32m    673\u001b[39m \u001b[43m\u001b[49m\u001b[43m)\u001b[49m\n\u001b[32m    676\u001b[39m \u001b[38;5;28;01mif\u001b[39;00m full_output:\n\u001b[32m    677\u001b[39m     xopt, fopt, d = retvals\n",
      "\u001b[36mFile \u001b[39m\u001b[32m~/Developer/ds-202501-health-econ-mlflow/.venv/lib/python3.12/site-packages/scipy/optimize/_lbfgsb_py.py:281\u001b[39m, in \u001b[36mfmin_l_bfgs_b\u001b[39m\u001b[34m(func, x0, fprime, args, approx_grad, bounds, m, factr, pgtol, epsilon, iprint, maxfun, maxiter, disp, callback, maxls)\u001b[39m\n\u001b[32m    269\u001b[39m callback = _wrap_callback(callback)\n\u001b[32m    270\u001b[39m opts = {\u001b[33m'\u001b[39m\u001b[33mdisp\u001b[39m\u001b[33m'\u001b[39m: disp,\n\u001b[32m    271\u001b[39m         \u001b[33m'\u001b[39m\u001b[33miprint\u001b[39m\u001b[33m'\u001b[39m: iprint,\n\u001b[32m    272\u001b[39m         \u001b[33m'\u001b[39m\u001b[33mmaxcor\u001b[39m\u001b[33m'\u001b[39m: m,\n\u001b[32m   (...)\u001b[39m\u001b[32m    278\u001b[39m         \u001b[33m'\u001b[39m\u001b[33mcallback\u001b[39m\u001b[33m'\u001b[39m: callback,\n\u001b[32m    279\u001b[39m         \u001b[33m'\u001b[39m\u001b[33mmaxls\u001b[39m\u001b[33m'\u001b[39m: maxls}\n\u001b[32m--> \u001b[39m\u001b[32m281\u001b[39m res = \u001b[43m_minimize_lbfgsb\u001b[49m\u001b[43m(\u001b[49m\u001b[43mfun\u001b[49m\u001b[43m,\u001b[49m\u001b[43m \u001b[49m\u001b[43mx0\u001b[49m\u001b[43m,\u001b[49m\u001b[43m \u001b[49m\u001b[43margs\u001b[49m\u001b[43m=\u001b[49m\u001b[43margs\u001b[49m\u001b[43m,\u001b[49m\u001b[43m \u001b[49m\u001b[43mjac\u001b[49m\u001b[43m=\u001b[49m\u001b[43mjac\u001b[49m\u001b[43m,\u001b[49m\u001b[43m \u001b[49m\u001b[43mbounds\u001b[49m\u001b[43m=\u001b[49m\u001b[43mbounds\u001b[49m\u001b[43m,\u001b[49m\n\u001b[32m    282\u001b[39m \u001b[43m                       \u001b[49m\u001b[43m*\u001b[49m\u001b[43m*\u001b[49m\u001b[43mopts\u001b[49m\u001b[43m)\u001b[49m\n\u001b[32m    283\u001b[39m d = {\u001b[33m'\u001b[39m\u001b[33mgrad\u001b[39m\u001b[33m'\u001b[39m: res[\u001b[33m'\u001b[39m\u001b[33mjac\u001b[39m\u001b[33m'\u001b[39m],\n\u001b[32m    284\u001b[39m      \u001b[33m'\u001b[39m\u001b[33mtask\u001b[39m\u001b[33m'\u001b[39m: res[\u001b[33m'\u001b[39m\u001b[33mmessage\u001b[39m\u001b[33m'\u001b[39m],\n\u001b[32m    285\u001b[39m      \u001b[33m'\u001b[39m\u001b[33mfuncalls\u001b[39m\u001b[33m'\u001b[39m: res[\u001b[33m'\u001b[39m\u001b[33mnfev\u001b[39m\u001b[33m'\u001b[39m],\n\u001b[32m    286\u001b[39m      \u001b[33m'\u001b[39m\u001b[33mnit\u001b[39m\u001b[33m'\u001b[39m: res[\u001b[33m'\u001b[39m\u001b[33mnit\u001b[39m\u001b[33m'\u001b[39m],\n\u001b[32m    287\u001b[39m      \u001b[33m'\u001b[39m\u001b[33mwarnflag\u001b[39m\u001b[33m'\u001b[39m: res[\u001b[33m'\u001b[39m\u001b[33mstatus\u001b[39m\u001b[33m'\u001b[39m]}\n\u001b[32m    288\u001b[39m f = res[\u001b[33m'\u001b[39m\u001b[33mfun\u001b[39m\u001b[33m'\u001b[39m]\n",
      "\u001b[36mFile \u001b[39m\u001b[32m~/Developer/ds-202501-health-econ-mlflow/.venv/lib/python3.12/site-packages/scipy/optimize/_lbfgsb_py.py:469\u001b[39m, in \u001b[36m_minimize_lbfgsb\u001b[39m\u001b[34m(fun, x0, args, jac, bounds, disp, maxcor, ftol, gtol, eps, maxfun, maxiter, iprint, callback, maxls, finite_diff_rel_step, workers, **unknown_options)\u001b[39m\n\u001b[32m    461\u001b[39m _lbfgsb.setulb(m, x, low_bnd, upper_bnd, nbd, f, g, factr, pgtol, wa,\n\u001b[32m    462\u001b[39m                iwa, task, lsave, isave, dsave, maxls, ln_task)\n\u001b[32m    464\u001b[39m \u001b[38;5;28;01mif\u001b[39;00m task[\u001b[32m0\u001b[39m] == \u001b[32m3\u001b[39m:\n\u001b[32m    465\u001b[39m     \u001b[38;5;66;03m# The minimization routine wants f and g at the current x.\u001b[39;00m\n\u001b[32m    466\u001b[39m     \u001b[38;5;66;03m# Note that interruptions due to maxfun are postponed\u001b[39;00m\n\u001b[32m    467\u001b[39m     \u001b[38;5;66;03m# until the completion of the current minimization iteration.\u001b[39;00m\n\u001b[32m    468\u001b[39m     \u001b[38;5;66;03m# Overwrite f and g:\u001b[39;00m\n\u001b[32m--> \u001b[39m\u001b[32m469\u001b[39m     f, g = \u001b[43mfunc_and_grad\u001b[49m\u001b[43m(\u001b[49m\u001b[43mx\u001b[49m\u001b[43m)\u001b[49m\n\u001b[32m    470\u001b[39m \u001b[38;5;28;01melif\u001b[39;00m task[\u001b[32m0\u001b[39m] == \u001b[32m1\u001b[39m:\n\u001b[32m    471\u001b[39m     \u001b[38;5;66;03m# new iteration\u001b[39;00m\n\u001b[32m    472\u001b[39m     n_iterations += \u001b[32m1\u001b[39m\n",
      "\u001b[36mFile \u001b[39m\u001b[32m~/Developer/ds-202501-health-econ-mlflow/.venv/lib/python3.12/site-packages/scipy/optimize/_differentiable_functions.py:404\u001b[39m, in \u001b[36mScalarFunction.fun_and_grad\u001b[39m\u001b[34m(self, x)\u001b[39m\n\u001b[32m    402\u001b[39m     \u001b[38;5;28mself\u001b[39m._update_x(x)\n\u001b[32m    403\u001b[39m \u001b[38;5;28mself\u001b[39m._update_fun()\n\u001b[32m--> \u001b[39m\u001b[32m404\u001b[39m \u001b[38;5;28;43mself\u001b[39;49m\u001b[43m.\u001b[49m\u001b[43m_update_grad\u001b[49m\u001b[43m(\u001b[49m\u001b[43m)\u001b[49m\n\u001b[32m    405\u001b[39m \u001b[38;5;28;01mreturn\u001b[39;00m \u001b[38;5;28mself\u001b[39m.f, \u001b[38;5;28mself\u001b[39m.g\n",
      "\u001b[36mFile \u001b[39m\u001b[32m~/Developer/ds-202501-health-econ-mlflow/.venv/lib/python3.12/site-packages/scipy/optimize/_differentiable_functions.py:366\u001b[39m, in \u001b[36mScalarFunction._update_grad\u001b[39m\u001b[34m(self)\u001b[39m\n\u001b[32m    364\u001b[39m \u001b[38;5;28;01mif\u001b[39;00m \u001b[38;5;28mself\u001b[39m._orig_grad \u001b[38;5;129;01min\u001b[39;00m FD_METHODS:\n\u001b[32m    365\u001b[39m     \u001b[38;5;28mself\u001b[39m._update_fun()\n\u001b[32m--> \u001b[39m\u001b[32m366\u001b[39m \u001b[38;5;28mself\u001b[39m.g = \u001b[38;5;28;43mself\u001b[39;49m\u001b[43m.\u001b[49m\u001b[43m_wrapped_grad\u001b[49m\u001b[43m(\u001b[49m\u001b[38;5;28;43mself\u001b[39;49m\u001b[43m.\u001b[49m\u001b[43mx\u001b[49m\u001b[43m,\u001b[49m\u001b[43m \u001b[49m\u001b[43mf0\u001b[49m\u001b[43m=\u001b[49m\u001b[38;5;28;43mself\u001b[39;49m\u001b[43m.\u001b[49m\u001b[43mf\u001b[49m\u001b[43m)\u001b[49m\n\u001b[32m    367\u001b[39m \u001b[38;5;28mself\u001b[39m.g_updated = \u001b[38;5;28;01mTrue\u001b[39;00m\n",
      "\u001b[36mFile \u001b[39m\u001b[32m~/Developer/ds-202501-health-econ-mlflow/.venv/lib/python3.12/site-packages/scipy/optimize/_differentiable_functions.py:41\u001b[39m, in \u001b[36m_ScalarGradWrapper.__call__\u001b[39m\u001b[34m(self, x, f0, **kwds)\u001b[39m\n\u001b[32m     39\u001b[39m     g = np.atleast_1d(\u001b[38;5;28mself\u001b[39m.grad(np.copy(x), *\u001b[38;5;28mself\u001b[39m.args))\n\u001b[32m     40\u001b[39m \u001b[38;5;28;01melif\u001b[39;00m \u001b[38;5;28mself\u001b[39m.grad \u001b[38;5;129;01min\u001b[39;00m FD_METHODS:\n\u001b[32m---> \u001b[39m\u001b[32m41\u001b[39m     g, dct = \u001b[43mapprox_derivative\u001b[49m\u001b[43m(\u001b[49m\n\u001b[32m     42\u001b[39m \u001b[43m        \u001b[49m\u001b[38;5;28;43mself\u001b[39;49m\u001b[43m.\u001b[49m\u001b[43mfun\u001b[49m\u001b[43m,\u001b[49m\n\u001b[32m     43\u001b[39m \u001b[43m        \u001b[49m\u001b[43mx\u001b[49m\u001b[43m,\u001b[49m\n\u001b[32m     44\u001b[39m \u001b[43m        \u001b[49m\u001b[43mf0\u001b[49m\u001b[43m=\u001b[49m\u001b[43mf0\u001b[49m\u001b[43m,\u001b[49m\n\u001b[32m     45\u001b[39m \u001b[43m        \u001b[49m\u001b[43m*\u001b[49m\u001b[43m*\u001b[49m\u001b[38;5;28;43mself\u001b[39;49m\u001b[43m.\u001b[49m\u001b[43mfinite_diff_options\u001b[49m\u001b[43m,\u001b[49m\n\u001b[32m     46\u001b[39m \u001b[43m    \u001b[49m\u001b[43m)\u001b[49m\n\u001b[32m     47\u001b[39m     \u001b[38;5;28mself\u001b[39m.nfev += dct[\u001b[33m'\u001b[39m\u001b[33mnfev\u001b[39m\u001b[33m'\u001b[39m]\n\u001b[32m     49\u001b[39m \u001b[38;5;28mself\u001b[39m.ngev += \u001b[32m1\u001b[39m\n",
      "\u001b[36mFile \u001b[39m\u001b[32m~/Developer/ds-202501-health-econ-mlflow/.venv/lib/python3.12/site-packages/scipy/optimize/_numdiff.py:593\u001b[39m, in \u001b[36mapprox_derivative\u001b[39m\u001b[34m(fun, x0, method, rel_step, abs_step, f0, bounds, sparsity, as_linear_operator, args, kwargs, full_output, workers)\u001b[39m\n\u001b[32m    591\u001b[39m \u001b[38;5;28;01mwith\u001b[39;00m MapWrapper(workers) \u001b[38;5;28;01mas\u001b[39;00m mf:\n\u001b[32m    592\u001b[39m     \u001b[38;5;28;01mif\u001b[39;00m sparsity \u001b[38;5;129;01mis\u001b[39;00m \u001b[38;5;28;01mNone\u001b[39;00m:\n\u001b[32m--> \u001b[39m\u001b[32m593\u001b[39m         J, _nfev = \u001b[43m_dense_difference\u001b[49m\u001b[43m(\u001b[49m\u001b[43mfun_wrapped\u001b[49m\u001b[43m,\u001b[49m\u001b[43m \u001b[49m\u001b[43mx0\u001b[49m\u001b[43m,\u001b[49m\u001b[43m \u001b[49m\u001b[43mf0\u001b[49m\u001b[43m,\u001b[49m\u001b[43m \u001b[49m\u001b[43mh\u001b[49m\u001b[43m,\u001b[49m\n\u001b[32m    594\u001b[39m \u001b[43m                                 \u001b[49m\u001b[43muse_one_sided\u001b[49m\u001b[43m,\u001b[49m\u001b[43m \u001b[49m\u001b[43mmethod\u001b[49m\u001b[43m,\u001b[49m\n\u001b[32m    595\u001b[39m \u001b[43m                                 \u001b[49m\u001b[43mmf\u001b[49m\u001b[43m)\u001b[49m\n\u001b[32m    596\u001b[39m     \u001b[38;5;28;01melse\u001b[39;00m:\n\u001b[32m    597\u001b[39m         \u001b[38;5;28;01mif\u001b[39;00m \u001b[38;5;129;01mnot\u001b[39;00m issparse(sparsity) \u001b[38;5;129;01mand\u001b[39;00m \u001b[38;5;28mlen\u001b[39m(sparsity) == \u001b[32m2\u001b[39m:\n",
      "\u001b[36mFile \u001b[39m\u001b[32m~/Developer/ds-202501-health-econ-mlflow/.venv/lib/python3.12/site-packages/scipy/optimize/_numdiff.py:686\u001b[39m, in \u001b[36m_dense_difference\u001b[39m\u001b[34m(fun, x0, f0, h, use_one_sided, method, workers)\u001b[39m\n\u001b[32m    684\u001b[39m f_evals = workers(fun, x_generator2(x0, h))\n\u001b[32m    685\u001b[39m dx = [(x0[i] + h[i]) - x0[i] \u001b[38;5;28;01mfor\u001b[39;00m i \u001b[38;5;129;01min\u001b[39;00m \u001b[38;5;28mrange\u001b[39m(n)]\n\u001b[32m--> \u001b[39m\u001b[32m686\u001b[39m df = \u001b[43m[\u001b[49m\u001b[43mf_eval\u001b[49m\u001b[43m \u001b[49m\u001b[43m-\u001b[49m\u001b[43m \u001b[49m\u001b[43mf0\u001b[49m\u001b[43m \u001b[49m\u001b[38;5;28;43;01mfor\u001b[39;49;00m\u001b[43m \u001b[49m\u001b[43mf_eval\u001b[49m\u001b[43m \u001b[49m\u001b[38;5;129;43;01min\u001b[39;49;00m\u001b[43m \u001b[49m\u001b[43mf_evals\u001b[49m\u001b[43m]\u001b[49m\n\u001b[32m    687\u001b[39m df_dx = [delf / delx \u001b[38;5;28;01mfor\u001b[39;00m delf, delx \u001b[38;5;129;01min\u001b[39;00m \u001b[38;5;28mzip\u001b[39m(df, dx)]\n\u001b[32m    688\u001b[39m nfev += \u001b[38;5;28mlen\u001b[39m(df_dx)\n",
      "\u001b[36mFile \u001b[39m\u001b[32m~/Developer/ds-202501-health-econ-mlflow/.venv/lib/python3.12/site-packages/scipy/optimize/_numdiff.py:876\u001b[39m, in \u001b[36m_Fun_Wrapper.__call__\u001b[39m\u001b[34m(self, x)\u001b[39m\n\u001b[32m    871\u001b[39m \u001b[38;5;28;01mdef\u001b[39;00m\u001b[38;5;250m \u001b[39m\u001b[34m__call__\u001b[39m(\u001b[38;5;28mself\u001b[39m, x):\n\u001b[32m    872\u001b[39m     \u001b[38;5;66;03m# send user function same fp type as x0. (but only if cs is not being\u001b[39;00m\n\u001b[32m    873\u001b[39m     \u001b[38;5;66;03m# used\u001b[39;00m\n\u001b[32m    874\u001b[39m     xp = array_namespace(\u001b[38;5;28mself\u001b[39m.x0)\n\u001b[32m--> \u001b[39m\u001b[32m876\u001b[39m     \u001b[38;5;28;01mif\u001b[39;00m \u001b[43mxp\u001b[49m\u001b[43m.\u001b[49m\u001b[43misdtype\u001b[49m\u001b[43m(\u001b[49m\u001b[43mx\u001b[49m\u001b[43m.\u001b[49m\u001b[43mdtype\u001b[49m\u001b[43m,\u001b[49m\u001b[43m \u001b[49m\u001b[33;43m\"\u001b[39;49m\u001b[33;43mreal floating\u001b[39;49m\u001b[33;43m\"\u001b[39;49m\u001b[43m)\u001b[49m:\n\u001b[32m    877\u001b[39m         x = xp.astype(x, \u001b[38;5;28mself\u001b[39m.x0.dtype)\n\u001b[32m    879\u001b[39m     f = np.atleast_1d(\u001b[38;5;28mself\u001b[39m.fun(x, *\u001b[38;5;28mself\u001b[39m.args, **\u001b[38;5;28mself\u001b[39m.kwargs))\n",
      "\u001b[36mFile \u001b[39m\u001b[32m~/Developer/ds-202501-health-econ-mlflow/.venv/lib/python3.12/site-packages/numpy/_core/numerictypes.py:385\u001b[39m, in \u001b[36misdtype\u001b[39m\u001b[34m(dtype, kind)\u001b[39m\n\u001b[32m    381\u001b[39m         \u001b[38;5;28;01mraise\u001b[39;00m _PreprocessDTypeError\n\u001b[32m    382\u001b[39m     \u001b[38;5;28;01mreturn\u001b[39;00m dtype\n\u001b[32m--> \u001b[39m\u001b[32m385\u001b[39m \u001b[38;5;129m@set_module\u001b[39m(\u001b[33m'\u001b[39m\u001b[33mnumpy\u001b[39m\u001b[33m'\u001b[39m)\n\u001b[32m    386\u001b[39m \u001b[38;5;28;01mdef\u001b[39;00m\u001b[38;5;250m \u001b[39m\u001b[34misdtype\u001b[39m(dtype, kind):\n\u001b[32m    387\u001b[39m \u001b[38;5;250m    \u001b[39m\u001b[33;03m\"\"\"\u001b[39;00m\n\u001b[32m    388\u001b[39m \u001b[33;03m    Determine if a provided dtype is of a specified data type ``kind``.\u001b[39;00m\n\u001b[32m    389\u001b[39m \n\u001b[32m   (...)\u001b[39m\u001b[32m    424\u001b[39m \n\u001b[32m    425\u001b[39m \u001b[33;03m    \"\"\"\u001b[39;00m\n\u001b[32m    426\u001b[39m     \u001b[38;5;28;01mtry\u001b[39;00m:\n",
      "\u001b[31mKeyboardInterrupt\u001b[39m: "
     ]
    }
   ],
   "source": [
    "import warnings\n",
    "import os\n",
    "root_dir = os.path.abspath(\".\")\n",
    "warnings.filterwarnings(\"ignore\", message=\".*force_all_finite.*\", category=FutureWarning)  # Ignore some warnings\n",
    "\n",
    "from dotenv import load_dotenv\n",
    "import pandas as pd\n",
    "load_dotenv()\n",
    "\n",
    "# Custom packages\n",
    "from utils.auth.hospital_profile import HospitalProfile\n",
    "from models.embed.openai_embedding import PatientChartEmbedding\n",
    "from models.data_container.plugin.patient_epurun import load\n",
    "from pipeline.base_manager import MLPipeline\n",
    "from pipeline.dfm_pipeline import DFMTransformer, DFMConfig, DynamicFactorModel\n",
    "\n",
    "# Generate the hospital profile for epurun\n",
    "print(\"[Run] Create hospital profile (epurun)\")\n",
    "hosp = HospitalProfile(hospital_id=\"epurun\", hospital_name=\"이푸른병원\")\n",
    "\n",
    "print(\"[Run] Load data ...\")\n",
    "origin = load(root_dir)\n",
    "\n",
    "print(\"[Run] Get embedding ...\")\n",
    "emb = PatientChartEmbedding(profile=hosp)\n",
    "emb.initialize_qdrant(\n",
    "    host=os.getenv(\"QDRANT_HOST\"),\n",
    "    port=os.getenv(\"QDRANT_PORT\")\n",
    ")\n",
    "embed = emb.retrieve_embedding()\n",
    "\n",
    "print(\"[Run] Run the pipeline\")\n",
    "model_config = DFMConfig(\n",
    "    freq=\"W\",  # Weekly prediction\n",
    "    k_factors=5,  # Latent factors\n",
    "    factor_order=1,  # AR\n",
    "    error_cov_type=\"diagonal\",\n",
    "    forecast_steps=1,\n",
    "    reduce_to=10\n",
    ")\n",
    "pipe = MLPipeline(\n",
    "    profile=hosp,\n",
    "    original=origin,\n",
    "    embedding=embed.mergeable_embeddings(),\n",
    "    transformer=DFMTransformer(),\n",
    "    model=DynamicFactorModel(config=model_config),\n",
    "    evaluator=None,\n",
    ")\n",
    "f = pipe.run(\"t1\")"
   ]
  },
  {
   "cell_type": "code",
   "execution_count": null,
   "id": "536ced7b",
   "metadata": {},
   "outputs": [],
   "source": []
  }
 ],
 "metadata": {
  "kernelspec": {
   "display_name": ".venv",
   "language": "python",
   "name": "python3"
  },
  "language_info": {
   "codemirror_mode": {
    "name": "ipython",
    "version": 3
   },
   "file_extension": ".py",
   "mimetype": "text/x-python",
   "name": "python",
   "nbconvert_exporter": "python",
   "pygments_lexer": "ipython3",
   "version": "3.12.9"
  }
 },
 "nbformat": 4,
 "nbformat_minor": 5
}
